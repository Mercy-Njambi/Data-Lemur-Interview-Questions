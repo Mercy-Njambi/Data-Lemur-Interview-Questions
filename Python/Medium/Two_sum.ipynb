{
  "nbformat": 4,
  "nbformat_minor": 0,
  "metadata": {
    "colab": {
      "provenance": [],
      "authorship_tag": "ABX9TyP9Dy2TQTvqGKxoAuo0FFwE",
      "include_colab_link": true
    },
    "kernelspec": {
      "name": "python3",
      "display_name": "Python 3"
    },
    "language_info": {
      "name": "python"
    }
  },
  "cells": [
    {
      "cell_type": "markdown",
      "metadata": {
        "id": "view-in-github",
        "colab_type": "text"
      },
      "source": [
        "<a href=\"https://colab.research.google.com/github/Mercy-Njambi/Data-Lemur-Interview-Questions/blob/main/Python/Medium/Two_sum.ipynb\" target=\"_parent\"><img src=\"https://colab.research.google.com/assets/colab-badge.svg\" alt=\"Open In Colab\"/></a>"
      ]
    },
    {
      "cell_type": "markdown",
      "source": [
        "Given a list of integers nums, and an integer target, return the indices of the two numbers which sum up to the target. Do not use the same list element twice.\n",
        "\n",
        "Clarifications:\n",
        "\n",
        "There is at most one solution.\n",
        "If there is no valid solution, return [-1, -1].\n",
        "Return the indices in increasing order (i.e. [1,3], NOT [3,1]).\n",
        "\n",
        "- Example #1\n",
        "\n",
        "Input: nums = [1, 4, 6, 10], target = 10\n",
        "\n",
        "Output: [1, 2]\n",
        "\n",
        "Explanation: Because 4 + 6 == 10, we return the index of elements 4 and 6, which is [1, 2]\n",
        "\n",
        "- Example #2\n",
        "\n",
        "Input: nums = [1, 4, 6, 10], target = 11\n",
        "\n",
        "Output: [0, 3]\n",
        "\n",
        "Explanation: Because nums[0] + nums[3] == 11, we return [0, 3].\n",
        "\n",
        "- Example #3\n",
        "\n",
        "Input: nums = [1, 4, 6, 10], target = 2\n",
        "\n",
        "Output: [-1, -1]\n",
        "\n",
        "Explanation: There are no two elements we can pick that sum up to 2. Remember, you can't use the same element twice!"
      ],
      "metadata": {
        "id": "Yl-Mf2Rmddcr"
      }
    },
    {
      "cell_type": "code",
      "source": [
        "def two_sum(nums: list[int], target: int) -> list[int]:\n",
        "  num_map = {}\n",
        "  for idx, num in enumerate(nums):\n",
        "    diff = target-num\n",
        "    if diff in num_map:\n",
        "      return [num_map[diff], idx]\n",
        "    else:\n",
        "      num_map[num] = idx\n",
        "  return [-1, -1]"
      ],
      "metadata": {
        "id": "V1O_iD1hbWqu"
      },
      "execution_count": null,
      "outputs": []
    }
  ]
}