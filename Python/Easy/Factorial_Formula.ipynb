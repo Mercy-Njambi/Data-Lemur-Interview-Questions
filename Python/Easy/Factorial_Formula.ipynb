{
  "nbformat": 4,
  "nbformat_minor": 0,
  "metadata": {
    "colab": {
      "provenance": [],
      "authorship_tag": "ABX9TyMxc4TG2WbAdLzhOEe5IzjE",
      "include_colab_link": true
    },
    "kernelspec": {
      "name": "python3",
      "display_name": "Python 3"
    },
    "language_info": {
      "name": "python"
    }
  },
  "cells": [
    {
      "cell_type": "markdown",
      "metadata": {
        "id": "view-in-github",
        "colab_type": "text"
      },
      "source": [
        "<a href=\"https://colab.research.google.com/github/Mercy-Njambi/Data-Lemur-Interview-Questions/blob/main/Python/Easy/Factorial_Formula.ipynb\" target=\"_parent\"><img src=\"https://colab.research.google.com/assets/colab-badge.svg\" alt=\"Open In Colab\"/></a>"
      ]
    },
    {
      "cell_type": "markdown",
      "source": [
        "Given a number\n",
        "n\n",
        "n, write a formula that returns\n",
        "n\n",
        "!\n",
        "\n",
        "\n",
        "In case you forgot the factorial formula,\n",
        "\n",
        "n!=n∗(n−1)∗(n−2)∗.....2∗1.\n",
        "\n",
        "For example,\n",
        "\n",
        "5!=5∗4∗3∗2∗1=120 so we'd return 120.\n",
        "\n",
        "Assume is\n",
        "n is a non-negative integer."
      ],
      "metadata": {
        "id": "Xed8U0TnXDa2"
      }
    },
    {
      "cell_type": "code",
      "execution_count": 1,
      "metadata": {
        "id": "5olhOHDmW8p1"
      },
      "outputs": [],
      "source": [
        "# factorial solution\n",
        "\n",
        "def factorial(n):\n",
        "  if n==0:\n",
        "    return 1\n",
        "  else:\n",
        "    return n*factorial(n-1)\n"
      ]
    },
    {
      "cell_type": "code",
      "source": [
        "def factorial(n):\n",
        "  fact = 1\n",
        "  for i in range(1, n+1):\n",
        "    fact = fact*i\n",
        "  return fact"
      ],
      "metadata": {
        "id": "ZrSKeh8aXhxB"
      },
      "execution_count": null,
      "outputs": []
    }
  ]
}