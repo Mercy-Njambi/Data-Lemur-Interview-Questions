{
  "nbformat": 4,
  "nbformat_minor": 0,
  "metadata": {
    "colab": {
      "provenance": [],
      "authorship_tag": "ABX9TyOfBeJAwSkAuoiZfctuDlT6",
      "include_colab_link": true
    },
    "kernelspec": {
      "name": "python3",
      "display_name": "Python 3"
    },
    "language_info": {
      "name": "python"
    }
  },
  "cells": [
    {
      "cell_type": "markdown",
      "metadata": {
        "id": "view-in-github",
        "colab_type": "text"
      },
      "source": [
        "<a href=\"https://colab.research.google.com/github/Mercy-Njambi/Data-Lemur-Interview-Questions/blob/main/Python/Easy/Fizz_Buzz_Sum.ipynb\" target=\"_parent\"><img src=\"https://colab.research.google.com/assets/colab-badge.svg\" alt=\"Open In Colab\"/></a>"
      ]
    },
    {
      "cell_type": "markdown",
      "source": [
        "Write a function fizz_buzz_sum to find the sum of all multiples of 3 or 5 below a target value.\n",
        "\n",
        "For example, if the target value was 10, the multiples of 3 or 5 below 10 are 3, 5, 6, and 9.\n",
        "\n",
        "Because 3+5+6+9=23, our function would return 23."
      ],
      "metadata": {
        "id": "qfbolaNxIiR5"
      }
    },
    {
      "cell_type": "code",
      "execution_count": 1,
      "metadata": {
        "id": "skJere0GIfVj"
      },
      "outputs": [],
      "source": [
        "def fizz_buzz_sum(target):\n",
        "  total = 0\n",
        "  for i in range(1, target):\n",
        "    if i%3==0 or i%5==0:\n",
        "      total +=i\n",
        "  return total\n"
      ]
    },
    {
      "cell_type": "code",
      "source": [],
      "metadata": {
        "id": "c6JFlXZBIhuO"
      },
      "execution_count": null,
      "outputs": []
    }
  ]
}