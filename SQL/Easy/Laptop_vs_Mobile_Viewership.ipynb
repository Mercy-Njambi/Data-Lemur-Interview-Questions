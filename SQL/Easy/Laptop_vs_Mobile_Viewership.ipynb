{
  "nbformat": 4,
  "nbformat_minor": 0,
  "metadata": {
    "colab": {
      "provenance": [],
      "authorship_tag": "ABX9TyOhKeCnIx68vButDQuJL63B",
      "include_colab_link": true
    },
    "kernelspec": {
      "name": "python3",
      "display_name": "Python 3"
    },
    "language_info": {
      "name": "python"
    }
  },
  "cells": [
    {
      "cell_type": "markdown",
      "metadata": {
        "id": "view-in-github",
        "colab_type": "text"
      },
      "source": [
        "<a href=\"https://colab.research.google.com/github/Mercy-Njambi/Data-Lemur-Interview-Questions/blob/main/SQL/Easy/Laptop_vs_Mobile_Viewership.ipynb\" target=\"_parent\"><img src=\"https://colab.research.google.com/assets/colab-badge.svg\" alt=\"Open In Colab\"/></a>"
      ]
    },
    {
      "cell_type": "markdown",
      "source": [
        "Assume you're given the table on user viewership categorised by device type where the three types are laptop, tablet, and phone.\n",
        "\n",
        "Write a query that calculates the total viewership for laptops and mobile devices where mobile is defined as the sum of tablet and phone viewership. Output the total viewership for laptops as laptop_reviews and the total viewership for mobile devices as mobile_views.\n",
        "\n",
        "\n",
        "\n",
        "`viewership` Table\n",
        "\n",
        "|Column Name|\tType|\n",
        "|:---|:---|\n",
        "|user_id|\tinteger|\n",
        "|device_type|\tstring ('laptop', 'tablet', 'phone')|\n",
        "|view_time|\ttimestamp|\n",
        "\n",
        "Example Output\n",
        "\n",
        "|laptop_views|\tmobile_views|\n",
        "|:---|:---|\n",
        "|2\t|3|\n"
      ],
      "metadata": {
        "id": "US2PnOGx42th"
      }
    },
    {
      "cell_type": "code",
      "execution_count": 1,
      "metadata": {
        "id": "CgA9iHsayjjR"
      },
      "outputs": [],
      "source": [
        "query = \"\"\"\n",
        "SELECT\n",
        "  COUNT(CASE\n",
        "          WHEN device_type = 'laptop' THEN 1\n",
        "          ELSE NULL\n",
        "        END) AS laptop_views,\n",
        "  COUNT(CASE\n",
        "          WHEN device_type IN ('tablet', 'phone') THEN 1\n",
        "          ELSE NULL\n",
        "        END) AS mobile_views\n",
        "FROM viewership\n",
        "\n",
        "\"\"\""
      ]
    }
  ]
}