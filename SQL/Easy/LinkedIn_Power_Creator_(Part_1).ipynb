{
  "nbformat": 4,
  "nbformat_minor": 0,
  "metadata": {
    "colab": {
      "provenance": [],
      "authorship_tag": "ABX9TyO0/p4jXYCCzC0Bt0DAIJq6",
      "include_colab_link": true
    },
    "kernelspec": {
      "name": "python3",
      "display_name": "Python 3"
    },
    "language_info": {
      "name": "python"
    }
  },
  "cells": [
    {
      "cell_type": "markdown",
      "metadata": {
        "id": "view-in-github",
        "colab_type": "text"
      },
      "source": [
        "<a href=\"https://colab.research.google.com/github/Mercy-Njambi/Data-Lemur-Interview-Questions/blob/main/SQL/Easy/LinkedIn_Power_Creator_(Part_1).ipynb\" target=\"_parent\"><img src=\"https://colab.research.google.com/assets/colab-badge.svg\" alt=\"Open In Colab\"/></a>"
      ]
    },
    {
      "cell_type": "markdown",
      "source": [
        "The LinkedIn Creator team is seeking out individuals who have a strong influence on the platform, utilizing their personal profiles as a company or influencer page. To identify such power creators, we can compare the number of followers on their LinkedIn page with the number of followers on the company they work for. If a person's LinkedIn page has more followers than their company, we consider them to be a power creator.\n",
        "\n",
        "Write a query to retrieve the profile IDs of these LinkedIn power creators ordered in ascending order based on their IDs.\n",
        "\n",
        "Assumptions:\n",
        "\n",
        "- Each individual in the database has a LinkedIn profile associated with a single company.\n",
        "- The personal_profiles and company_pages tables are connected via the employer_id and company_id columns, respectively.\n",
        "\n",
        "`personal_profiles` Table:\n",
        "\n",
        "|Column Name\t|Type|\n",
        "|:---|:---|\n",
        "|profile_id\t|integer|\n",
        "|name\t|string|\n",
        "|followers\t|integer|\n",
        "|employer_id|\tinteger|\n",
        "\n",
        "`company_pages` Table:\n",
        "\n",
        "|Column Name\t|Type|\n",
        "|:---|:---|\n",
        "|company_id\t|integer|\n",
        "|name\t|string|\n",
        "|followers\t|integer|\n",
        "\n",
        "Example Output:\n",
        "\n",
        "|profile_id|\n",
        "|:---|\n",
        "|1|\n",
        "|3|\n",
        "|4|\n",
        "|5|\n"
      ],
      "metadata": {
        "id": "umQmwu4taJhD"
      }
    },
    {
      "cell_type": "code",
      "execution_count": null,
      "metadata": {
        "id": "899zanI4aB6v"
      },
      "outputs": [],
      "source": [
        "query = \"\"\"\n",
        "select\n",
        "  profile_id\n",
        "from personal_profiles p\n",
        "inner join company_pages c\n",
        "  on p.employer_id=c.company_id\n",
        "where p.followers > c.followers\n",
        "order by profile_id asc\n",
        "\"\"\""
      ]
    }
  ]
}