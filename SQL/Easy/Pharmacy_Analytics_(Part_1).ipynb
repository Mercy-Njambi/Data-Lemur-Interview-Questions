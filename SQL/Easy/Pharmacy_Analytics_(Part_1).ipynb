{
  "nbformat": 4,
  "nbformat_minor": 0,
  "metadata": {
    "colab": {
      "provenance": [],
      "authorship_tag": "ABX9TyNPPXWWca48gNd6M+h9X2E7",
      "include_colab_link": true
    },
    "kernelspec": {
      "name": "python3",
      "display_name": "Python 3"
    },
    "language_info": {
      "name": "python"
    }
  },
  "cells": [
    {
      "cell_type": "markdown",
      "metadata": {
        "id": "view-in-github",
        "colab_type": "text"
      },
      "source": [
        "<a href=\"https://colab.research.google.com/github/Mercy-Njambi/Data-Lemur-Interview-Questions/blob/main/SQL/Easy/Pharmacy_Analytics_(Part_1).ipynb\" target=\"_parent\"><img src=\"https://colab.research.google.com/assets/colab-badge.svg\" alt=\"Open In Colab\"/></a>"
      ]
    },
    {
      "cell_type": "markdown",
      "source": [
        "CVS Health is trying to better understand its pharmacy sales, and how well different products are selling. Each drug can only be produced by one manufacturer.\n",
        "\n",
        "Write a query to find the top 3 most profitable drugs sold, and how much profit they made. Assume that there are no ties in the profits. Display the result from the highest to the lowest total profit.\n",
        "\n",
        "Definition:\n",
        "\n",
        "- cogs stands for Cost of Goods Sold which is the direct cost associated with producing the drug.\n",
        "- Total Profit = Total Sales - Cost of Goods Sold\n",
        "\n",
        "\n",
        "`pharmacy_sales` Table:\n",
        "\n",
        "|Column Name\t|Type|\n",
        "|:---|:---|\n",
        "|product_id\t|integer|\n",
        "|units_sold\t|integer|\n",
        "|total_sales\t|decimal|\n",
        "|cogs\t|decimal|\n",
        "|manufacturer\t|varchar|\n",
        "|drug\t|varchar|\n",
        "\n",
        "Example Output:\n",
        "\n",
        "|drug\t|total_profit|\n",
        "|:---|:---|\n",
        "|Zyprexa|84576.53|\n",
        "|Varicose Relief|\t80926.64|\n",
        "|Surmontil|\t79815.03|\n"
      ],
      "metadata": {
        "id": "gLn4BUUbx3Ts"
      }
    },
    {
      "cell_type": "code",
      "execution_count": null,
      "metadata": {
        "id": "NqUzQuG2xABx"
      },
      "outputs": [],
      "source": [
        "query = \"\"\"\n",
        "select\n",
        "  drug,\n",
        "  (total_sales-cogs) as total_profit\n",
        "from pharmacy_sales\n",
        "order by total_profit desc\n",
        "limit 3\n",
        "\"\"\""
      ]
    }
  ]
}