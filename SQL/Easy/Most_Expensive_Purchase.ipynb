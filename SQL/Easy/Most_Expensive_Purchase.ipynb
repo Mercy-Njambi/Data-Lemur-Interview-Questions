{
  "nbformat": 4,
  "nbformat_minor": 0,
  "metadata": {
    "colab": {
      "provenance": [],
      "authorship_tag": "ABX9TyOwxivN7Vs9P0Wl3DGwrYSL",
      "include_colab_link": true
    },
    "kernelspec": {
      "name": "python3",
      "display_name": "Python 3"
    },
    "language_info": {
      "name": "python"
    }
  },
  "cells": [
    {
      "cell_type": "markdown",
      "metadata": {
        "id": "view-in-github",
        "colab_type": "text"
      },
      "source": [
        "<a href=\"https://colab.research.google.com/github/Mercy-Njambi/Data-Lemur-Interview-Questions/blob/main/SQL/Easy/Most_Expensive_Purchase.ipynb\" target=\"_parent\"><img src=\"https://colab.research.google.com/assets/colab-badge.svg\" alt=\"Open In Colab\"/></a>"
      ]
    },
    {
      "cell_type": "markdown",
      "source": [
        "Amazon is trying to identify their high-end customers. To do so, they first need your help to write a query that obtains the most expensive purchase made by each customer. Order the results by the most expensive purchase first.\n",
        "\n",
        "`transactions` Table:\n",
        "\n",
        "|Column Name\t|Type|\n",
        "|:---|:---|\n",
        "|transaction_id\t|integer|\n",
        "|customer_id|\tinteger|\n",
        "|purchase_amount\t|integer|\n",
        "\n",
        "\n",
        "Example Output:\n",
        "\n",
        "|customer_id\t|purchase_amount|\n",
        "|:---|:---|\n",
        "|2|\t551.20|\n",
        "|1|\t150|\n",
        "|3\t|13.30|\n"
      ],
      "metadata": {
        "id": "KBzgKnLE9JCO"
      }
    },
    {
      "cell_type": "code",
      "execution_count": null,
      "metadata": {
        "id": "o7dMHVe98x4k"
      },
      "outputs": [],
      "source": [
        "query = \"\"\"\n",
        "select\n",
        "  customer_id,\n",
        "  max(purchase_amount) as purchase_amount\n",
        "from transactions\n",
        "group by customer_id\n",
        "order by purchase_amount desc\n",
        "\"\"\""
      ]
    }
  ]
}