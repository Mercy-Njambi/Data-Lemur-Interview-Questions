{
  "nbformat": 4,
  "nbformat_minor": 0,
  "metadata": {
    "colab": {
      "provenance": [],
      "authorship_tag": "ABX9TyPY1138d7bPmb64hFv/eIn4",
      "include_colab_link": true
    },
    "kernelspec": {
      "name": "python3",
      "display_name": "Python 3"
    },
    "language_info": {
      "name": "python"
    }
  },
  "cells": [
    {
      "cell_type": "markdown",
      "metadata": {
        "id": "view-in-github",
        "colab_type": "text"
      },
      "source": [
        "<a href=\"https://colab.research.google.com/github/Mercy-Njambi/Data-Lemur-Interview-Questions/blob/main/SQL/Easy/App_Click_through_Rate.ipynb\" target=\"_parent\"><img src=\"https://colab.research.google.com/assets/colab-badge.svg\" alt=\"Open In Colab\"/></a>"
      ]
    },
    {
      "cell_type": "markdown",
      "source": [
        "Assume you have an events table on Facebook app analytics. Write a query to calculate the click-through rate (CTR) for the app in 2022 and round the results to 2 decimal places.\n",
        "\n",
        "Definition and note:\n",
        "\n",
        "Percentage of click-through rate (CTR) = 100.0 * Number of clicks / Number of impressions\n",
        "\n",
        "To avoid integer division, multiply the CTR by 100.0, not 100.\n",
        "\n",
        "`events` Table:\n",
        "\n",
        "|Column Name\t|Type|\n",
        "|:---|:---|\n",
        "|app_id|\tinteger|\n",
        "|event_type|\tstring|\n",
        "|timestamp|\tdatetime|\n",
        "\n",
        "Example Output:\n",
        "\n",
        "|app_id\t|ctr|\n",
        "|:---|:---|\n",
        "|123|50.00|\n",
        "|234\t|100.00|\n"
      ],
      "metadata": {
        "id": "yHLaCgTpeMxL"
      }
    },
    {
      "cell_type": "code",
      "execution_count": 1,
      "metadata": {
        "id": "a7blRDNOZxxs"
      },
      "outputs": [],
      "source": [
        "query = \"\"\"\n",
        "with app_click_impressions_count as (\n",
        "SELECT\n",
        "  app_id,\n",
        "  count(case when event_type='click' then 1 else null end) as click_count,\n",
        "  count(case when event_type='impression' then 1 else null end) as impression_count\n",
        "FROM events\n",
        "WHERE EXTRACT(YEAR FROM timestamp) =2022\n",
        "group by app_id\n",
        ")\n",
        "\n",
        "select\n",
        "  app_id,\n",
        "  round((100.0*click_count/impression_count),2) as ctr\n",
        "from app_click_impressions_count\n",
        "\"\"\""
      ]
    }
  ]
}