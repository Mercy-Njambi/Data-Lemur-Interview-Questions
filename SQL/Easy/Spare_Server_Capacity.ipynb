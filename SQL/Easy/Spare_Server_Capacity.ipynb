{
  "nbformat": 4,
  "nbformat_minor": 0,
  "metadata": {
    "colab": {
      "provenance": [],
      "authorship_tag": "ABX9TyM7/dt474kWdz5aawLYph/t",
      "include_colab_link": true
    },
    "kernelspec": {
      "name": "python3",
      "display_name": "Python 3"
    },
    "language_info": {
      "name": "python"
    }
  },
  "cells": [
    {
      "cell_type": "markdown",
      "metadata": {
        "id": "view-in-github",
        "colab_type": "text"
      },
      "source": [
        "<a href=\"https://colab.research.google.com/github/Mercy-Njambi/Data-Lemur-Interview-Questions/blob/main/SQL/Easy/Spare_Server_Capacity.ipynb\" target=\"_parent\"><img src=\"https://colab.research.google.com/assets/colab-badge.svg\" alt=\"Open In Colab\"/></a>"
      ]
    },
    {
      "cell_type": "markdown",
      "source": [
        "Microsoft Azure's capacity planning team wants to understand how much data its customers are using, and how much spare capacity is left in each of its data centers. You’re given three tables: customers, data centers, and forecasted_demand.\n",
        "\n",
        "Write a query to find each data centre’s total unused server capacity. Output the data center id in ascending order and the total spare capacity.\n",
        "\n",
        "Definitions:\n",
        "\n",
        "- monthly_capacity is the total monthly server capacity for each centers.\n",
        "- monthly_demand is the server demand for each customer.\n",
        "\n",
        "`datacenters` Table:\n",
        "\n",
        "|Column Name\t|Type|\n",
        "|:---|:---|\n",
        "|datacenter_id|\tinteger|\n",
        "|name|\tstring|\n",
        "|monthly_capacity\t|integer|\n",
        "\n",
        "`forecasted_demand` Table:\n",
        "\n",
        "|Column Name\t|Type|\n",
        "|:---|:---|\n",
        "|customer_id|\tinteger|\n",
        "|datacenter_id|\tinteger|\n",
        "|monthly_demand|\tinteger|\n",
        "\n",
        "\n",
        "Example Output:\n",
        "\n",
        "|datacenter_id\t|spare_capacity|\n",
        "|:---|:---|\n",
        "|1\t|40|\n",
        "|3|\t12|\n",
        "|4\t|175|\n"
      ],
      "metadata": {
        "id": "o4inAbHFoTv6"
      }
    },
    {
      "cell_type": "code",
      "execution_count": null,
      "metadata": {
        "id": "dwOmTpeWn6Ql"
      },
      "outputs": [],
      "source": [
        "with total_usage as (\n",
        "select\n",
        "  datacenter_id,\n",
        "  sum(monthly_demand) as forecasted_total_use\n",
        "from forecasted_demand fd\n",
        "group by datacenter_id\n",
        ")\n",
        "\n",
        "select\n",
        "   tu.datacenter_id,\n",
        "   (monthly_capacity -forecasted_total_use) as spare_capacity\n",
        "from total_usage tu\n",
        "left join datacenters d\n",
        "  on tu.datacenter_id= d.datacenter_id\n",
        "order by datacenter_id asc"
      ]
    }
  ]
}