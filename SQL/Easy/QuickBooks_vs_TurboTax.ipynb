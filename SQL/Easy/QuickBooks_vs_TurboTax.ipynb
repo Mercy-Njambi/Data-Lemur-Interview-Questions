{
  "nbformat": 4,
  "nbformat_minor": 0,
  "metadata": {
    "colab": {
      "provenance": [],
      "authorship_tag": "ABX9TyOZKNKagResGi0fp9UekYyG",
      "include_colab_link": true
    },
    "kernelspec": {
      "name": "python3",
      "display_name": "Python 3"
    },
    "language_info": {
      "name": "python"
    }
  },
  "cells": [
    {
      "cell_type": "markdown",
      "metadata": {
        "id": "view-in-github",
        "colab_type": "text"
      },
      "source": [
        "<a href=\"https://colab.research.google.com/github/Mercy-Njambi/Data-Lemur-Interview-Questions/blob/main/SQL/Easy/QuickBooks_vs_TurboTax.ipynb\" target=\"_parent\"><img src=\"https://colab.research.google.com/assets/colab-badge.svg\" alt=\"Open In Colab\"/></a>"
      ]
    },
    {
      "cell_type": "markdown",
      "source": [
        "Intuit provides a range of tax filing products, including TurboTax and QuickBooks, available in various versions.\n",
        "\n",
        "Write a query to determine the total number of tax filings made using TurboTax and QuickBooks. Each user can file taxes once a year using only one product.\n",
        "\n",
        "`filed_taxes` Table:\n",
        "\n",
        "|Column Name|\tType|\n",
        "|:---|:---|\n",
        "|filing_id\t|integer|\n",
        "|user_id\t|varchar|\n",
        "|filing_date|datetime|\n",
        "|product\t|varchar|\n",
        "\n",
        "Example Output:\n",
        "\n",
        "|turbotax_total\t|quickbooks_total|\n",
        "|:---|:---|\n",
        "|7\t|2|\n"
      ],
      "metadata": {
        "id": "SR1kfXhp5yiG"
      }
    },
    {
      "cell_type": "code",
      "execution_count": null,
      "metadata": {
        "id": "lXy6EAb55ssF"
      },
      "outputs": [],
      "source": [
        "query = \"\"\"\n",
        "select\n",
        "  count(case\n",
        "          when product like 'TurboTax%' then 1\n",
        "          else null\n",
        "        end) as turbotax_total,\n",
        "  count(case\n",
        "          when product like 'QuickBooks%' then 1\n",
        "          else null\n",
        "        end) as quickbooks_total\n",
        "from filed_taxes\n",
        "\"\"\""
      ]
    }
  ]
}