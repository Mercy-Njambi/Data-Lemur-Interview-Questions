{
  "nbformat": 4,
  "nbformat_minor": 0,
  "metadata": {
    "colab": {
      "provenance": [],
      "authorship_tag": "ABX9TyOF94NdVDwrOQfiElEVZOsq",
      "include_colab_link": true
    },
    "kernelspec": {
      "name": "python3",
      "display_name": "Python 3"
    },
    "language_info": {
      "name": "python"
    }
  },
  "cells": [
    {
      "cell_type": "markdown",
      "metadata": {
        "id": "view-in-github",
        "colab_type": "text"
      },
      "source": [
        "<a href=\"https://colab.research.google.com/github/Mercy-Njambi/Data-Lemur-Interview-Questions/blob/main/SQL/Easy/ApplePay_Volume.ipynb\" target=\"_parent\"><img src=\"https://colab.research.google.com/assets/colab-badge.svg\" alt=\"Open In Colab\"/></a>"
      ]
    },
    {
      "cell_type": "markdown",
      "source": [
        "Visa is analysing its partnership with ApplyPay. Calculate the total transaction volume for each merchant where the transaction was performed via ApplePay.\n",
        "\n",
        "Output the merchant ID and the total transactions. For merchants with no ApplePay transactions, output their total transaction volume as 0. Display the result in descending order of the transaction volume.\n",
        "\n",
        "Tip: You might want to check the spelling of the payment methods... just sayin' 👀\n",
        "\n",
        "`transactions` Table:\n",
        "\n",
        "|Column Name|\tType|\n",
        "|:---|:---|\n",
        "|merchant_id\t|integer|\n",
        "|transaction_amount\t|integer|\n",
        "|payment_method|\tvarchar|\n",
        "\n",
        "Example Output:\n",
        "\n",
        "|merchant_id\t|total_transaction|\n",
        "|:---|:---|\n",
        "|1\t|1350|\n",
        "|4|\t1200|\n",
        "|2\t|0|\n"
      ],
      "metadata": {
        "id": "KN8Qretc_2pY"
      }
    },
    {
      "cell_type": "code",
      "execution_count": null,
      "metadata": {
        "id": "WGArbqew9yUb"
      },
      "outputs": [],
      "source": [
        "query = \"\"\"\n",
        "select\n",
        "  merchant_id,\n",
        "  sum(case\n",
        "        when lower(payment_method) = 'apple pay' then transaction_amount\n",
        "        else 0\n",
        "      end) as total_transaction\n",
        "from transactions\n",
        "group by merchant_id\n",
        "order by total_transaction desc\n",
        "\"\"\""
      ]
    }
  ]
}