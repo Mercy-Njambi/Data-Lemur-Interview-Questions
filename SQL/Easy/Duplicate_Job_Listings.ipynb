{
  "nbformat": 4,
  "nbformat_minor": 0,
  "metadata": {
    "colab": {
      "provenance": [],
      "authorship_tag": "ABX9TyOdpdd60BRMJ0e856D/TyoP",
      "include_colab_link": true
    },
    "kernelspec": {
      "name": "python3",
      "display_name": "Python 3"
    },
    "language_info": {
      "name": "python"
    }
  },
  "cells": [
    {
      "cell_type": "markdown",
      "metadata": {
        "id": "view-in-github",
        "colab_type": "text"
      },
      "source": [
        "<a href=\"https://colab.research.google.com/github/Mercy-Njambi/Data-Lemur-Interview-Questions/blob/main/SQL/Easy/Duplicate_Job_Listings.ipynb\" target=\"_parent\"><img src=\"https://colab.research.google.com/assets/colab-badge.svg\" alt=\"Open In Colab\"/></a>"
      ]
    },
    {
      "cell_type": "markdown",
      "source": [
        "Assume you're given a table containing job postings from various companies on the LinkedIn platform. Write a query to retrieve the count of companies that have posted duplicate job listings.\n",
        "\n",
        "Definition:\n",
        "\n",
        "Duplicate job listings are defined as two job listings within the same company that share identical titles and descriptions.\n",
        "\n",
        "`job_listings` Table:\n",
        "\n",
        "|Column Name|\tType|\n",
        "|:---|:---|\n",
        "|job_id|\tinteger|\n",
        "|company_id|\tinteger|\n",
        "|title|\tstring|\n",
        "|description|\tstring|\n",
        "\n",
        "\n",
        "Example Output:\n",
        "\n",
        "|duplicate_companies|\n",
        "|:---|\n",
        "|1|\n"
      ],
      "metadata": {
        "id": "ngVmi3ZVo42k"
      }
    },
    {
      "cell_type": "code",
      "execution_count": 1,
      "metadata": {
        "id": "MGuEe8g2nLIP"
      },
      "outputs": [],
      "source": [
        "query = \"\"\"\n",
        "WITH duplicate_posts AS (\n",
        "SELECT\n",
        "  company_id,\n",
        "  title,\n",
        "  description,\n",
        "  count(*) AS listing_count\n",
        "FROM job_listings\n",
        "GROUP BY company_id, title, description\n",
        "HAVING count(*) > 1\n",
        ")\n",
        "\n",
        "SELECT\n",
        "  COUNT( DISTINCT company_id) as duplicate_companies\n",
        "FROM duplicate_posts;\n",
        "\"\"\""
      ]
    }
  ]
}