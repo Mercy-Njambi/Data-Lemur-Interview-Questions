{
  "nbformat": 4,
  "nbformat_minor": 0,
  "metadata": {
    "colab": {
      "provenance": [],
      "authorship_tag": "ABX9TyOXwOJTb2I/ZV3FsInb6esr",
      "include_colab_link": true
    },
    "kernelspec": {
      "name": "python3",
      "display_name": "Python 3"
    },
    "language_info": {
      "name": "python"
    }
  },
  "cells": [
    {
      "cell_type": "markdown",
      "metadata": {
        "id": "view-in-github",
        "colab_type": "text"
      },
      "source": [
        "<a href=\"https://colab.research.google.com/github/Mercy-Njambi/Data-Lemur-Interview-Questions/blob/main/SQL/Easy/Pages_With_No_Likes.ipynb\" target=\"_parent\"><img src=\"https://colab.research.google.com/assets/colab-badge.svg\" alt=\"Open In Colab\"/></a>"
      ]
    },
    {
      "cell_type": "markdown",
      "source": [
        "Assume you're given two tables containing data about Facebook Pages and their respective likes (as in \"Like a Facebook Page\").\n",
        "\n",
        "Write a query to return the IDs of the Facebook pages that have zero likes. The output should be sorted in ascending order based on the page IDs.\n",
        "\n",
        "`pages` Table:\n",
        "\n",
        "|Column Name|\tType|\n",
        "|:---|:---|\n",
        "|page_id|\tinteger|\n",
        "|page_name|\tvarchar|\n",
        "\n",
        "`page_likes` Table:\n",
        "\n",
        "|Column Name|\tType|\n",
        "|:---|:---|\n",
        "|user_id|\tinteger|\n",
        "|page_id|\tinteger|\n",
        "|liked_date|\tdatetime|\n",
        "\n",
        "Example Output:\n",
        "\n",
        "|page_id|\n",
        "|:---|\n",
        "|20701|\n",
        "\n"
      ],
      "metadata": {
        "id": "7jtD7csFOfkz"
      }
    },
    {
      "cell_type": "code",
      "execution_count": 1,
      "metadata": {
        "id": "d6117ti_KoMz"
      },
      "outputs": [],
      "source": [
        "query = \"\"\"\n",
        "SELECT page_id\n",
        "FROM pages\n",
        "\n",
        "EXCEPT\n",
        "\n",
        "SELECT page_id\n",
        "FROM page_likes\n",
        "\"\"\""
      ]
    }
  ]
}