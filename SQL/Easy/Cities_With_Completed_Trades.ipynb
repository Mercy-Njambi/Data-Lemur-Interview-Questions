{
  "nbformat": 4,
  "nbformat_minor": 0,
  "metadata": {
    "colab": {
      "provenance": [],
      "authorship_tag": "ABX9TyMIaesqOb/PcwQxrAA+bv09",
      "include_colab_link": true
    },
    "kernelspec": {
      "name": "python3",
      "display_name": "Python 3"
    },
    "language_info": {
      "name": "python"
    }
  },
  "cells": [
    {
      "cell_type": "markdown",
      "metadata": {
        "id": "view-in-github",
        "colab_type": "text"
      },
      "source": [
        "<a href=\"https://colab.research.google.com/github/Mercy-Njambi/Data-Lemur-Interview-Questions/blob/main/SQL/Easy/Cities_With_Completed_Trades.ipynb\" target=\"_parent\"><img src=\"https://colab.research.google.com/assets/colab-badge.svg\" alt=\"Open In Colab\"/></a>"
      ]
    },
    {
      "cell_type": "markdown",
      "source": [
        "Assume you're given the tables containing completed trade orders and user details in a Robinhood trading system.\n",
        "\n",
        "Write a query to retrieve the top three cities that have the highest number of completed trade orders listed in descending order. Output the city name and the corresponding number of completed trade orders.\n",
        "\n",
        "`trades` Table:\n",
        "\n",
        "|Column Name|Type|\n",
        "|:---|:---|\n",
        "|order_id|\tinteger|\n",
        "|user_id|\tinteger|\n",
        "|quantity|\tinteger|\n",
        "|status|\tstring ('Completed', 'Cancelled')|\n",
        "|date|\ttimestamp|\n",
        "|price|\tdecimal (5, 2)|\n",
        "\n",
        "`users` Table:\n",
        "\n",
        "|Column Name\t|Type|\n",
        "|:---|:---|\n",
        "|user_id|\tinteger|\n",
        "|city|\tstring|\n",
        "|email|\tstring|\n",
        "|signup_date|\tdatetime|\n",
        "\n",
        "\n",
        "Example Output:\n",
        "\n",
        "|city\t|total_orders|\n",
        "|:---|:---|\n",
        "|San Francisco|\t3|\n",
        "|Boston\t|2|\n",
        "|Denver\t|1|\n"
      ],
      "metadata": {
        "id": "-qg6slgBtZ8N"
      }
    },
    {
      "cell_type": "code",
      "execution_count": 1,
      "metadata": {
        "id": "DJjSV-i7pnpj"
      },
      "outputs": [],
      "source": [
        "query = \"\"\"\n",
        "WITH completed_trades AS (\n",
        "SELECT trades.order_id, trades.user_id, users.city, trades.status\n",
        "FROM trades\n",
        "JOIN users\n",
        "  ON trades.user_id = users.user_id\n",
        "WHERE status = 'Completed'\n",
        ")\n",
        "SELECT city, COUNT(order_id) AS total_orders\n",
        "FROM completed_trades\n",
        "GROUP BY city\n",
        "ORDER BY COUNT(order_id) DESC\n",
        "LIMIT 3\n",
        ";\n",
        "\"\"\""
      ]
    }
  ]
}