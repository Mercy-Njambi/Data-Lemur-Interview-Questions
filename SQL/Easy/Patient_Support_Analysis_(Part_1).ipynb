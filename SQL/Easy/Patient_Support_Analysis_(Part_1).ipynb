{
  "nbformat": 4,
  "nbformat_minor": 0,
  "metadata": {
    "colab": {
      "provenance": [],
      "authorship_tag": "ABX9TyMdqLS0IMQEQKX8xD7WQFDG",
      "include_colab_link": true
    },
    "kernelspec": {
      "name": "python3",
      "display_name": "Python 3"
    },
    "language_info": {
      "name": "python"
    }
  },
  "cells": [
    {
      "cell_type": "markdown",
      "metadata": {
        "id": "view-in-github",
        "colab_type": "text"
      },
      "source": [
        "<a href=\"https://colab.research.google.com/github/Mercy-Njambi/Data-Lemur-Interview-Questions/blob/main/SQL/Easy/Patient_Support_Analysis_(Part_1).ipynb\" target=\"_parent\"><img src=\"https://colab.research.google.com/assets/colab-badge.svg\" alt=\"Open In Colab\"/></a>"
      ]
    },
    {
      "cell_type": "markdown",
      "source": [
        "UnitedHealth Group (UHG) has a program called Advocate4Me, which allows policy holders (or, members) to call an advocate and receive support for their health care needs – whether that's claims and benefits support, drug coverage, pre- and post-authorisation, medical records, emergency assistance, or member portal services.\n",
        "\n",
        "Write a query to find how many UHG policy holders made three, or more calls, assuming each call is identified by the case_id column.\n",
        "\n",
        "`callers` Table:\n",
        "\n",
        "|Column Name\t|Type|\n",
        "|:---|:---|\n",
        "|policy_holder_id\t|integer|\n",
        "|case_id|\tvarchar|\n",
        "|all_category|\tvarchar|\n",
        "|call_date\t|timestamp|\n",
        "|call_duration_secs|\tinteger|\n",
        "\n",
        "Example Output:\n",
        "\n",
        "|policy_holder_count|\n",
        "|:---|\n",
        "|1|\n"
      ],
      "metadata": {
        "id": "6E5hcUvR8ikx"
      }
    },
    {
      "cell_type": "code",
      "execution_count": 1,
      "metadata": {
        "id": "W56H-TVI8cQK"
      },
      "outputs": [],
      "source": [
        "query = \"\"\"\n",
        "with holder_count_cases as (\n",
        "select\n",
        "  policy_holder_id,\n",
        "  count(distinct case_id) as cases\n",
        "from callers\n",
        "group by policy_holder_id\n",
        "having count(distinct case_id) >= 3\n",
        ")\n",
        "\n",
        "select count(policy_holder_id) as policy_holder_count\n",
        "from holder_count_cases\n",
        "\"\"\""
      ]
    }
  ]
}