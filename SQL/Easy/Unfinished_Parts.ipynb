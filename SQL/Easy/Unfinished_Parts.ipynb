{
  "nbformat": 4,
  "nbformat_minor": 0,
  "metadata": {
    "colab": {
      "provenance": [],
      "authorship_tag": "ABX9TyPJc0txJNbJxC6yyKkiN5w1",
      "include_colab_link": true
    },
    "kernelspec": {
      "name": "python3",
      "display_name": "Python 3"
    },
    "language_info": {
      "name": "python"
    }
  },
  "cells": [
    {
      "cell_type": "markdown",
      "metadata": {
        "id": "view-in-github",
        "colab_type": "text"
      },
      "source": [
        "<a href=\"https://colab.research.google.com/github/Mercy-Njambi/Data-Lemur-Interview-Questions/blob/main/SQL/Easy/Unfinished_Parts.ipynb\" target=\"_parent\"><img src=\"https://colab.research.google.com/assets/colab-badge.svg\" alt=\"Open In Colab\"/></a>"
      ]
    },
    {
      "cell_type": "markdown",
      "source": [
        "Tesla is investigating production bottlenecks and they need your help to extract the relevant data. Write a query to determine which parts have begun the assembly process but are not yet finished.\n",
        "\n",
        "Assumptions:\n",
        "\n",
        "- parts_assembly table contains all parts currently in production, each at varying stages of the assembly process.\n",
        "- An unfinished part is one that lacks a finish_date\n",
        "\n",
        "\n",
        "\n",
        "`parts_assembly` Table\n",
        "\n",
        "|Column Name|\tType|\n",
        "|:---|:---|\n",
        "|part|\tstring|\n",
        "|finish_date|\tdatetime|\n",
        "|assembly_step|\tinteger|\n",
        "\n",
        "Example Output\n",
        "\n",
        "|part|\tassembly_step|\n",
        "|:---|:---|\n",
        "|bumper|\t3|\n",
        "|bumper|\t4|\n",
        "\n",
        "Explanation\n",
        "\n",
        "The bumpers in step 3 and 4 are the only item that remains unfinished as it lacks a recorded finish date.\n"
      ],
      "metadata": {
        "id": "j7i7JOwpPxxT"
      }
    },
    {
      "cell_type": "code",
      "execution_count": 1,
      "metadata": {
        "id": "qNjKoFOGPpF-"
      },
      "outputs": [],
      "source": [
        "query = \"\"\"\n",
        "SELECT part, assembly_step\n",
        "FROM parts_assembly\n",
        "WHERE finish_date IS NULL;\n",
        "\"\"\""
      ]
    }
  ]
}