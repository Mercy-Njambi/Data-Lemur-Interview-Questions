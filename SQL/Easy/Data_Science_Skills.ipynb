{
  "nbformat": 4,
  "nbformat_minor": 0,
  "metadata": {
    "colab": {
      "provenance": [],
      "authorship_tag": "ABX9TyPcUoUU7VkPPFNzCqeovNo4",
      "include_colab_link": true
    },
    "kernelspec": {
      "name": "python3",
      "display_name": "Python 3"
    },
    "language_info": {
      "name": "python"
    }
  },
  "cells": [
    {
      "cell_type": "markdown",
      "metadata": {
        "id": "view-in-github",
        "colab_type": "text"
      },
      "source": [
        "<a href=\"https://colab.research.google.com/github/Mercy-Njambi/Data-Lemur-Interview-Questions/blob/main/SQL/Easy/Data_Science_Skills.ipynb\" target=\"_parent\"><img src=\"https://colab.research.google.com/assets/colab-badge.svg\" alt=\"Open In Colab\"/></a>"
      ]
    },
    {
      "cell_type": "markdown",
      "source": [
        "Given a table of candidates and their skills, you're tasked with finding the candidates best suited for an open Data Science job. You want to find candidates who are proficient in Python, Tableau, and PostgreSQL.\n",
        "\n",
        "Write a query to list the candidates who possess all of the required skills for the job. Sort the output by candidate ID in ascending order.\n",
        "\n",
        "Assumption:\n",
        "\n",
        "There are no duplicates in the candidates table.\n",
        "\n",
        "\n",
        "`candidates` Table:\n",
        "\n",
        "|Column Name |Type |\n",
        "|:--- | :--- |\n",
        "|candidate_id\t| integer |\n",
        "|skill\t| varchar |\n",
        "\n",
        "Example Output:\n",
        "\n",
        "|candidate_id|\n",
        "|:---|\n",
        "|123|\n",
        "\n"
      ],
      "metadata": {
        "id": "_3Y-R8OI-NfG"
      }
    },
    {
      "cell_type": "code",
      "execution_count": 1,
      "metadata": {
        "id": "xMmkyZ-D-DS2"
      },
      "outputs": [],
      "source": [
        "query = \"\"\"\n",
        "SELECT candidate_id\n",
        "FROM candidates\n",
        "WHERE skill IN ('Python', 'Tableau', 'PostgreSQL')\n",
        "GROUP BY candidate_id\n",
        "HAVING COUNT(skill) = 3\n",
        "ORDER BY candidate_id ASC;\n",
        "\"\"\""
      ]
    },
    {
      "cell_type": "code",
      "source": [],
      "metadata": {
        "id": "-qsN8OOM-MUT"
      },
      "execution_count": null,
      "outputs": []
    }
  ]
}