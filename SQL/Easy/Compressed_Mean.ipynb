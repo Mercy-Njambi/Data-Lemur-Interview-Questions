{
  "nbformat": 4,
  "nbformat_minor": 0,
  "metadata": {
    "colab": {
      "provenance": [],
      "authorship_tag": "ABX9TyOwK1st4oiRa98Mdbf1//yK",
      "include_colab_link": true
    },
    "kernelspec": {
      "name": "python3",
      "display_name": "Python 3"
    },
    "language_info": {
      "name": "python"
    }
  },
  "cells": [
    {
      "cell_type": "markdown",
      "metadata": {
        "id": "view-in-github",
        "colab_type": "text"
      },
      "source": [
        "<a href=\"https://colab.research.google.com/github/Mercy-Njambi/Data-Lemur-Interview-Questions/blob/main/SQL/Easy/Compressed_Mean.ipynb\" target=\"_parent\"><img src=\"https://colab.research.google.com/assets/colab-badge.svg\" alt=\"Open In Colab\"/></a>"
      ]
    },
    {
      "cell_type": "markdown",
      "source": [
        "You're trying to find the mean number of items per order on Alibaba, rounded to 1 decimal place using tables which includes information on the count of items in each order (item_count table) and the corresponding number of orders for each item count (order_occurrences table).\n",
        "\n",
        "`items_per_order` Table:\n",
        "\n",
        "|Column Name\t|Type|\n",
        "|:---|:---|\n",
        "|item_count\t|integer|\n",
        "|order_occurrences\t|integer|\n",
        "\n",
        "\n",
        "Example Output:\n",
        "\n",
        "|mean|\n",
        "|:---|\n",
        "|2.7|\n"
      ],
      "metadata": {
        "id": "CNiioT8ywbtd"
      }
    },
    {
      "cell_type": "code",
      "execution_count": null,
      "metadata": {
        "id": "OSK6bNYKtqEa"
      },
      "outputs": [],
      "source": [
        "query = \"\"\"\n",
        "select\n",
        "  round((sum(item_count*order_occurrences) /sum(order_occurrences))::numeric,1) as mean\n",
        "from items_per_order\n",
        "\"\"\""
      ]
    }
  ]
}