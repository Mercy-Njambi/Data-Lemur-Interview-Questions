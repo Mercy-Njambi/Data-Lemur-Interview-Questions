{
  "nbformat": 4,
  "nbformat_minor": 0,
  "metadata": {
    "colab": {
      "provenance": [],
      "authorship_tag": "ABX9TyMVaGRu/Df+oYYgOG43X1f0",
      "include_colab_link": true
    },
    "kernelspec": {
      "name": "python3",
      "display_name": "Python 3"
    },
    "language_info": {
      "name": "python"
    }
  },
  "cells": [
    {
      "cell_type": "markdown",
      "metadata": {
        "id": "view-in-github",
        "colab_type": "text"
      },
      "source": [
        "<a href=\"https://colab.research.google.com/github/Mercy-Njambi/Data-Lemur-Interview-Questions/blob/main/SQL/Easy/Average_Review_Ratings.ipynb\" target=\"_parent\"><img src=\"https://colab.research.google.com/assets/colab-badge.svg\" alt=\"Open In Colab\"/></a>"
      ]
    },
    {
      "cell_type": "markdown",
      "source": [
        "Given the reviews table, write a query to retrieve the average star rating for each product, grouped by month.\n",
        "\n",
        "The output should display the month as a numerical value, product ID, and average star rating rounded to two decimal places. Sort the output first by month and then by product ID.\n",
        "\n",
        "\n",
        "\n",
        "`reviews` Table:\n",
        "\n",
        "|Column Name|\tType|\n",
        "|:---|:---|\n",
        "|review_id|\tinteger|\n",
        "|user_id|\tinteger|\n",
        "|submit_date|\tdatetime|\n",
        "|product_id|\tinteger|\n",
        "|stars\t|integer (1-5)|\n",
        "\n",
        "\n",
        "Example Output:\n",
        "\n",
        "|mth\t|product\t|avg_stars|\n",
        "|:---|:---|:---|\n",
        "|6\t|50001\t|3.50|\n",
        "|6\t|69852\t|4.00|\n",
        "|7\t|69852|\t2.50|\n",
        "\n",
        "\n"
      ],
      "metadata": {
        "id": "7MLJmrrj0jWp"
      }
    },
    {
      "cell_type": "code",
      "execution_count": 1,
      "metadata": {
        "id": "WgcsvyXJ0S51"
      },
      "outputs": [],
      "source": [
        "query = \"\"\"\n",
        "SELECT\n",
        "  EXTRACT(MONTH FROM submit_date) as mth,\n",
        "  product_id AS product,\n",
        "  ROUND(AVG(stars), 2) AS avg_stars\n",
        "FROM reviews\n",
        "GROUP BY\n",
        "  product_id,\n",
        "  EXTRACT(MONTH FROM submit_date)\n",
        "ORDER BY\n",
        "  mth,\n",
        "  product_id\n",
        ";\n",
        "\"\"\""
      ]
    }
  ]
}