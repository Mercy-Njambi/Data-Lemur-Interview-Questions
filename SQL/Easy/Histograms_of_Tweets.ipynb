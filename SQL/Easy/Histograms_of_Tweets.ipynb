{
  "nbformat": 4,
  "nbformat_minor": 0,
  "metadata": {
    "colab": {
      "provenance": [],
      "authorship_tag": "ABX9TyMgmNriyWNQJUwtJ99rqBwb",
      "include_colab_link": true
    },
    "kernelspec": {
      "name": "python3",
      "display_name": "Python 3"
    },
    "language_info": {
      "name": "python"
    }
  },
  "cells": [
    {
      "cell_type": "markdown",
      "metadata": {
        "id": "view-in-github",
        "colab_type": "text"
      },
      "source": [
        "<a href=\"https://colab.research.google.com/github/Mercy-Njambi/Data-Lemur-Interview-Questions/blob/main/SQL/Easy/Histograms_of_Tweets.ipynb\" target=\"_parent\"><img src=\"https://colab.research.google.com/assets/colab-badge.svg\" alt=\"Open In Colab\"/></a>"
      ]
    },
    {
      "cell_type": "markdown",
      "source": [
        "Assume you're given a table Twitter tweet data, write a query to obtain a histogram of tweets posted per user in 2022. Output the tweet count per user as the bucket and the number of Twitter users who fall into that bucket.\n",
        "\n",
        "In other words, group the users by the number of tweets they posted in 2022 and count the number of users in each group.\n",
        "\n",
        "`tweets` Table:\n",
        "\n",
        "Columns:\n",
        "\n",
        "- tweet_id : integer\n",
        "- user_id : integer\n",
        "- msg : string\n",
        "- tweet_date : timestamp\n",
        "\n",
        "Example Output:\n",
        "\n",
        "| tweet_bucket | users_num |\n",
        "|:---|:---|\n",
        "|1 | 2 |\n",
        "| 2 | 1 |\n",
        "\n"
      ],
      "metadata": {
        "id": "8WHYkN_DvkXj"
      }
    },
    {
      "cell_type": "code",
      "execution_count": 1,
      "metadata": {
        "id": "kIfk-0HsunYp"
      },
      "outputs": [],
      "source": [
        "query = \"\"\"\n",
        "with user_tweet_count as (\n",
        "select\n",
        "  user_id,\n",
        "  count(*) as tweet_count\n",
        "from tweets\n",
        "where EXTRACT(year from tweet_date) = '2022'\n",
        "group by user_id\n",
        ")\n",
        "\n",
        "select\n",
        "  tweet_count as tweet_bucket,\n",
        "  count(*) as user_num\n",
        "from user_tweet_count\n",
        "group by tweet_count\n",
        "\"\"\""
      ]
    },
    {
      "cell_type": "code",
      "source": [],
      "metadata": {
        "id": "4YdeAP36vOQu"
      },
      "execution_count": null,
      "outputs": []
    }
  ]
}