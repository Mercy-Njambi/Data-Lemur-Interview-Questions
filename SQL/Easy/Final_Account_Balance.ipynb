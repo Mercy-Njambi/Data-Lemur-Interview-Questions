{
  "nbformat": 4,
  "nbformat_minor": 0,
  "metadata": {
    "colab": {
      "provenance": [],
      "authorship_tag": "ABX9TyMaRHD07k7YPFJ7KMU91YLD",
      "include_colab_link": true
    },
    "kernelspec": {
      "name": "python3",
      "display_name": "Python 3"
    },
    "language_info": {
      "name": "python"
    }
  },
  "cells": [
    {
      "cell_type": "markdown",
      "metadata": {
        "id": "view-in-github",
        "colab_type": "text"
      },
      "source": [
        "<a href=\"https://colab.research.google.com/github/Mercy-Njambi/Data-Lemur-Interview-Questions/blob/main/SQL/Easy/Final_Account_Balance.ipynb\" target=\"_parent\"><img src=\"https://colab.research.google.com/assets/colab-badge.svg\" alt=\"Open In Colab\"/></a>"
      ]
    },
    {
      "cell_type": "markdown",
      "source": [
        "Given a table containing information about bank deposits and withdrawals made using Paypal, write a query to retrieve the final account balance for each account, taking into account all the transactions recorded in the table with the assumption that there are no missing transactions.\n",
        "\n",
        "`transactions` Table:\n",
        "\n",
        "|Column Name\t|Type|\n",
        "|:---|:---|\n",
        "|transaction_id|\tinteger|\n",
        "|account_id\t|integer|\n",
        "|amount\t|decimal|\n",
        "|transaction_type\t|varchar|\n",
        "\n",
        "Example Output:\n",
        "\n",
        "|account_id\t|final_balance|\n",
        "|:---|:---|\n",
        "|101\t|25.00|\n",
        "|201\t|10.00|\n"
      ],
      "metadata": {
        "id": "iaKIGWEz3BO-"
      }
    },
    {
      "cell_type": "code",
      "execution_count": null,
      "metadata": {
        "id": "PMGBs3-z2240"
      },
      "outputs": [],
      "source": [
        "query = \"\"\"\n",
        "with summary as (\n",
        "select\n",
        "  account_id,\n",
        "  sum(case when transaction_type='Deposit' then amount else 0 end) as deposits,\n",
        "  sum(case when transaction_type='Withdrawal' then amount else 0 end) as withdrawals\n",
        "from transactions\n",
        "group by account_id\n",
        ")\n",
        "select\n",
        "  account_id,\n",
        "  (deposits-withdrawals) as final_balance\n",
        "from summary\n",
        "\"\"\""
      ]
    },
    {
      "cell_type": "code",
      "source": [
        "query2 = \"\"\"\n",
        "select\n",
        "  account_id,\n",
        "  sum(case\n",
        "        when transaction_type = 'Deposit' then amount\n",
        "        else -amount\n",
        "      end) as final_balance\n",
        "from transactions\n",
        "group by account_id\n",
        "\"\"\""
      ],
      "metadata": {
        "id": "lSLaKDB53FHr"
      },
      "execution_count": null,
      "outputs": []
    }
  ]
}