{
  "nbformat": 4,
  "nbformat_minor": 0,
  "metadata": {
    "colab": {
      "provenance": [],
      "authorship_tag": "ABX9TyMlRzjOXMDpnlicjupT3boe",
      "include_colab_link": true
    },
    "kernelspec": {
      "name": "python3",
      "display_name": "Python 3"
    },
    "language_info": {
      "name": "python"
    }
  },
  "cells": [
    {
      "cell_type": "markdown",
      "metadata": {
        "id": "view-in-github",
        "colab_type": "text"
      },
      "source": [
        "<a href=\"https://colab.research.google.com/github/Mercy-Njambi/Data-Lemur-Interview-Questions/blob/main/SQL/Easy/Subject_Matter_Experts.ipynb\" target=\"_parent\"><img src=\"https://colab.research.google.com/assets/colab-badge.svg\" alt=\"Open In Colab\"/></a>"
      ]
    },
    {
      "cell_type": "markdown",
      "source": [
        "You are tasked with identifying Subject Matter Experts (SMEs) at Accenture based on their work experience in specific domains. An employee qualifies as an SME if they meet either of the following criteria:\n",
        "\n",
        "1. They have 8 or more years of work experience in a single domain.\n",
        "2. They have 12 or more years of work experience across two different domains.\n",
        "\n",
        "Write a query to return the employee IDs of all the subject matter experts at Accenture.\n",
        "\n",
        "Assumption:\n",
        "\n",
        "- An employee can only be considered an SME if they meet the experience requirements in either one or two domains. Cases where an employee has experience in more than two domains can be disregarded.\n",
        "\n",
        "\n",
        "`employee_expertise` Table:\n",
        "\n",
        "|Column Name\t|Type|\n",
        "|:---|:---|\n",
        "|employee_id\t|integer|\n",
        "|domain|\tstring|\n",
        "|years_of_experience\t|integer|\n",
        "\n",
        "Example Output:\n",
        "\n",
        "|employee_id|\n",
        "|:---|\n",
        "|101|\n",
        "|102|\n"
      ],
      "metadata": {
        "id": "hFZC4iY4RSS7"
      }
    },
    {
      "cell_type": "code",
      "execution_count": null,
      "metadata": {
        "id": "NisSfLKERE7w"
      },
      "outputs": [],
      "source": [
        "query = \"\"\"\n",
        "with employee_summary as (\n",
        "select\n",
        "  employee_id,\n",
        "  count(domain) as num_domains,\n",
        "  sum(years_of_experience) as experience\n",
        "from employee_expertise\n",
        "group by employee_id\n",
        ")\n",
        "select employee_id\n",
        "from employee_summary\n",
        "where (num_domains = 1 and experience >=8) or (num_domains = 2 and experience >=12)\n",
        "\"\"\""
      ]
    }
  ]
}