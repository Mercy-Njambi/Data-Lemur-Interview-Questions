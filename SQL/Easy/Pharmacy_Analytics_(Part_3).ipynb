{
  "nbformat": 4,
  "nbformat_minor": 0,
  "metadata": {
    "colab": {
      "provenance": [],
      "authorship_tag": "ABX9TyOJC9TBkLQbz4HAb42Ogo8O",
      "include_colab_link": true
    },
    "kernelspec": {
      "name": "python3",
      "display_name": "Python 3"
    },
    "language_info": {
      "name": "python"
    }
  },
  "cells": [
    {
      "cell_type": "markdown",
      "metadata": {
        "id": "view-in-github",
        "colab_type": "text"
      },
      "source": [
        "<a href=\"https://colab.research.google.com/github/Mercy-Njambi/Data-Lemur-Interview-Questions/blob/main/SQL/Easy/Pharmacy_Analytics_(Part_3).ipynb\" target=\"_parent\"><img src=\"https://colab.research.google.com/assets/colab-badge.svg\" alt=\"Open In Colab\"/></a>"
      ]
    },
    {
      "cell_type": "markdown",
      "source": [
        "CVS Health wants to gain a clearer understanding of its pharmacy sales and the performance of various products.\n",
        "\n",
        "Write a query to calculate the total drug sales for each manufacturer. Round the answer to the nearest million and report your results in descending order of total sales. In case of any duplicates, sort them alphabetically by the manufacturer name.\n",
        "\n",
        "Since this data will be displayed on a dashboard viewed by business stakeholders, please format your results as follows: \"$36 million\".\n",
        "\n",
        "`pharmacy_sales` Table:\n",
        "\n",
        "|Column Name|\tType|\n",
        "|:---|:---|\n",
        "|product_id\t|integer|\n",
        "|units_sold\t|integer|\n",
        "|total_sales\t|decimal|\n",
        "|cogs\t|decimal|\n",
        "|manufacturer\t|varchar|\n",
        "|drug|\tvarchar|\n",
        "\n",
        "Example Output:\n",
        "\n",
        "|manufacturer\t|sale|\n",
        "|:---|:---|\n",
        "|Biogen\t| $4 million|\n",
        "|Eli Lilly\t| $3 million|\n"
      ],
      "metadata": {
        "id": "0D_-zDE04v9i"
      }
    },
    {
      "cell_type": "code",
      "execution_count": 1,
      "metadata": {
        "id": "TynTYawu1_ZQ"
      },
      "outputs": [],
      "source": [
        "query = \"\"\"\n",
        "select\n",
        "  manufacturer,\n",
        "  concat('$', round(sum(total_sales)/1000000, 0), ' million') as sale\n",
        "from pharmacy_sales\n",
        "group by manufacturer\n",
        "order by\n",
        "  sum(total_sales) desc,\n",
        "  manufacturer asc\n",
        "\"\"\""
      ]
    }
  ]
}