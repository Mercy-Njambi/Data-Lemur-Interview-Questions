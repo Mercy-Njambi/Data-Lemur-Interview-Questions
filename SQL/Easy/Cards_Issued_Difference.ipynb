{
  "nbformat": 4,
  "nbformat_minor": 0,
  "metadata": {
    "colab": {
      "provenance": [],
      "authorship_tag": "ABX9TyO1uBYx4lVMJEBQsPb82oDG",
      "include_colab_link": true
    },
    "kernelspec": {
      "name": "python3",
      "display_name": "Python 3"
    },
    "language_info": {
      "name": "python"
    }
  },
  "cells": [
    {
      "cell_type": "markdown",
      "metadata": {
        "id": "view-in-github",
        "colab_type": "text"
      },
      "source": [
        "<a href=\"https://colab.research.google.com/github/Mercy-Njambi/Data-Lemur-Interview-Questions/blob/main/SQL/Easy/Cards_Issued_Difference.ipynb\" target=\"_parent\"><img src=\"https://colab.research.google.com/assets/colab-badge.svg\" alt=\"Open In Colab\"/></a>"
      ]
    },
    {
      "cell_type": "markdown",
      "source": [
        "Your team at JPMorgan Chase is preparing to launch a new credit card, and to gain some insights, you're analyzing how many credit cards were issued each month.\n",
        "\n",
        "Write a query that outputs the name of each credit card and the difference in the number of issued cards between the month with the highest issuance cards and the lowest issuance. Arrange the results based on the largest disparity.\n",
        "\n",
        "`monthly_cards_issued` Table:\n",
        "\n",
        "|Column Name\t|Type|\n",
        "|:---|:---|\n",
        "|card_name\t|string|\n",
        "|issued_amount\t|integer|\n",
        "|issue_month\t|integer|\n",
        "|issue_year|\tinteger|\n",
        "\n",
        "Example Output:\n",
        "\n",
        "|card_name\t|difference|\n",
        "|:---|:---|\n",
        "|Chase Freedom Flex\t|15000|\n",
        "|Chase Sapphire Reserve|\t10000|\n"
      ],
      "metadata": {
        "id": "8xiFgfWhGlKz"
      }
    },
    {
      "cell_type": "code",
      "execution_count": null,
      "metadata": {
        "id": "IcWUrpf5CX9N"
      },
      "outputs": [],
      "source": [
        "query = \"\"\"\n",
        "select\n",
        "  card_name,\n",
        "  max(total_amount) - min(total_amount) as difference\n",
        "from\n",
        "  (select\n",
        "    card_name,\n",
        "    issue_month,\n",
        "    sum(issued_amount) as total_amount\n",
        "  from monthly_cards_issued\n",
        "  group by card_name, issue_month) monthly_amounts\n",
        "group by card_name\n",
        "order by difference desc\n",
        "\n",
        "\"\"\""
      ]
    }
  ]
}