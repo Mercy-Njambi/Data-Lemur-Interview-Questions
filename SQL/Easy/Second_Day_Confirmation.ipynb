{
  "nbformat": 4,
  "nbformat_minor": 0,
  "metadata": {
    "colab": {
      "provenance": [],
      "authorship_tag": "ABX9TyP7FazZZdNOsFYRlYfegjXG",
      "include_colab_link": true
    },
    "kernelspec": {
      "name": "python3",
      "display_name": "Python 3"
    },
    "language_info": {
      "name": "python"
    }
  },
  "cells": [
    {
      "cell_type": "markdown",
      "metadata": {
        "id": "view-in-github",
        "colab_type": "text"
      },
      "source": [
        "<a href=\"https://colab.research.google.com/github/Mercy-Njambi/Data-Lemur-Interview-Questions/blob/main/SQL/Easy/Second_Day_Confirmation.ipynb\" target=\"_parent\"><img src=\"https://colab.research.google.com/assets/colab-badge.svg\" alt=\"Open In Colab\"/></a>"
      ]
    },
    {
      "cell_type": "markdown",
      "source": [
        "Assume you're given tables with information about TikTok user sign-ups and confirmations through email and text. New users on TikTok sign up using their email addresses, and upon sign-up, each user receives a text message confirmation to activate their account.\n",
        "\n",
        "Write a query to display the user IDs of those who did not confirm their sign-up on the first day, but confirmed on the second day.\n",
        "\n",
        "Definition:\n",
        "\n",
        "action_date refers to the date when users activated their accounts and confirmed their sign-up through text messages.\n",
        "\n",
        "`emails` Table:\n",
        "\n",
        "|Column Name\t|Type|\n",
        "|:---|:---|\n",
        "|email_id|\tinteger|\n",
        "|user_id\t|integer|\n",
        "|signup_date\t|datetime|\n",
        "\n",
        "\n",
        "`texts` Table:\n",
        "\n",
        "|Column Name\t|Type|\n",
        "|:---|:---|\n",
        "|text_id\t|integer|\n",
        "|email_id\t|integer|\n",
        "|signup_action\t|string ('Confirmed', 'Not confirmed')|\n",
        "|action_date\t|datetime|\n",
        "\n",
        "Example Output:\n",
        "\n",
        "|user_id|\n",
        "|:---|\n",
        "|1052|\n"
      ],
      "metadata": {
        "id": "yz65BoMYZA2n"
      }
    },
    {
      "cell_type": "code",
      "execution_count": 1,
      "metadata": {
        "id": "7hBf6BcYY634"
      },
      "outputs": [],
      "source": [
        "query = \"\"\"\n",
        "SELECT e.user_id\n",
        "FROM emails e\n",
        "JOIN texts t\n",
        "  ON e.email_id = t.email_id\n",
        "WHERE t.signup_action = 'Confirmed'\n",
        "  AND t.action_date::date = e.signup_date::date + 1\n",
        "\"\"\""
      ]
    }
  ]
}