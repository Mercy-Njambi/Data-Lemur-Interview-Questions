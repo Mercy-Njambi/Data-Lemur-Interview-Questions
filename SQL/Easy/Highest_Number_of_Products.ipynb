{
  "nbformat": 4,
  "nbformat_minor": 0,
  "metadata": {
    "colab": {
      "provenance": [],
      "authorship_tag": "ABX9TyNicoewEDz2CYvKmxcWBWKA",
      "include_colab_link": true
    },
    "kernelspec": {
      "name": "python3",
      "display_name": "Python 3"
    },
    "language_info": {
      "name": "python"
    }
  },
  "cells": [
    {
      "cell_type": "markdown",
      "metadata": {
        "id": "view-in-github",
        "colab_type": "text"
      },
      "source": [
        "<a href=\"https://colab.research.google.com/github/Mercy-Njambi/Data-Lemur-Interview-Questions/blob/main/SQL/Easy/Highest_Number_of_Products.ipynb\" target=\"_parent\"><img src=\"https://colab.research.google.com/assets/colab-badge.svg\" alt=\"Open In Colab\"/></a>"
      ]
    },
    {
      "cell_type": "markdown",
      "source": [
        "Assume that you are given the table below containing information on various orders made by eBay customers.\n",
        "\n",
        "Write a query to obtain the user IDs and number of products purchased by the top 3 customers; these customers must have spent at least $1,000 in total.\n",
        "\n",
        "Output the user id and number of products in descending order. To break ties (i.e., if 2 customers both bought 10 products), the user who spent more should take precedence.\n",
        "\n",
        "`user_transactions` Table:\n",
        "\n",
        "|Column Name\t|Type|\n",
        "|:---|:---|\n",
        "|transaction_id|\tinteger|\n",
        "|product_id\t|integer|\n",
        "|user_id\t|integer|\n",
        "|spend\t|decimal|\n",
        "\n",
        "Example Output:\n",
        "\n",
        "|user_id\t|product_num|\n",
        "|:---|:---|\n",
        "|133\t|3|\n",
        "|128\t|2|\n",
        "|102\t|1|\n"
      ],
      "metadata": {
        "id": "QhySqVPoG8_9"
      }
    },
    {
      "cell_type": "code",
      "execution_count": null,
      "metadata": {
        "id": "HGKr7zlTG2Hf"
      },
      "outputs": [],
      "source": [
        "query = \"\"\"\n",
        "select\n",
        "  user_id,\n",
        "  count(distinct product_id) as product_num\n",
        "from user_transactions\n",
        "group by user_id\n",
        "having sum(spend) > 1000\n",
        "order by product_num desc, sum(spend) desc\n",
        "limit 3\n",
        "\"\"\""
      ]
    }
  ]
}