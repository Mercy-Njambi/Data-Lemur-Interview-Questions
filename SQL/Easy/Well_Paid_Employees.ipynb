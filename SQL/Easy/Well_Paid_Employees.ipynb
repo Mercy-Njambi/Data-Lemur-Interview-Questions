{
  "nbformat": 4,
  "nbformat_minor": 0,
  "metadata": {
    "colab": {
      "provenance": [],
      "authorship_tag": "ABX9TyNa9p9n7HuqcQsD5/PSgFb4",
      "include_colab_link": true
    },
    "kernelspec": {
      "name": "python3",
      "display_name": "Python 3"
    },
    "language_info": {
      "name": "python"
    }
  },
  "cells": [
    {
      "cell_type": "markdown",
      "metadata": {
        "id": "view-in-github",
        "colab_type": "text"
      },
      "source": [
        "<a href=\"https://colab.research.google.com/github/Mercy-Njambi/Data-Lemur-Interview-Questions/blob/main/SQL/Easy/Well_Paid_Employees.ipynb\" target=\"_parent\"><img src=\"https://colab.research.google.com/assets/colab-badge.svg\" alt=\"Open In Colab\"/></a>"
      ]
    },
    {
      "cell_type": "markdown",
      "source": [
        "Companies often perform salary analyses to ensure fair compensation practices. One useful analysis is to check if there are any employees earning more than their direct managers.\n",
        "\n",
        "As a HR Analyst, you're asked to identify all employees who earn more than their direct managers. The result should include the employee's ID and name.\n",
        "\n",
        "`employee` Schema:\n",
        "\n",
        "|column_name\t|type\t|description|\n",
        "|:---|:---|:---|\n",
        "|employee_id|integer\t|The unique ID of the employee.|\n",
        "|name\t|string\t|The name of the employee.|\n",
        "|salary|\tinteger|\tThe salary of the employee.|\n",
        "|department_id|\tinteger|\tThe department ID of the employee.|\n",
        "|manager_id|\tinteger|\tThe manager ID of the employee.|\n",
        "\n",
        "Example Output:\n",
        "\n",
        "|employee_id\t|employee_name|\n",
        "|:---|:---|\n",
        "|3\t|Olivia Smith|\n"
      ],
      "metadata": {
        "id": "eMDFGZmVXWO0"
      }
    },
    {
      "cell_type": "code",
      "execution_count": 3,
      "metadata": {
        "id": "ZAimJwb3T2sC"
      },
      "outputs": [],
      "source": [
        "self_join_query = \"\"\"\n",
        "select\n",
        "  employee_id,\n",
        "  name as employee_name\n",
        "from\n",
        "  (select\n",
        "    a.employee_id,\n",
        "    a.name,\n",
        "    a.salary as employee_salary,\n",
        "    a.manager_id,\n",
        "    b.salary as manager_salary\n",
        "  from employee a, employee b\n",
        "  where a.manager_id =b.employee_id) as employee_manager\n",
        "where employee_salary > manager_salary\n",
        "LIMIT 5;\n",
        "\"\"\""
      ]
    },
    {
      "cell_type": "code",
      "source": [
        "inner_join_query = \"\"\"\n",
        "select emp.employee_id, emp.name as employee_name\n",
        "from employee as emp\n",
        "inner join employee as mgmt\n",
        "on emp.manager_id = mgmt.employee_id\n",
        "where emp.salary > mgmt.salary\n",
        "\"\"\""
      ],
      "metadata": {
        "id": "ZAvJ_by8ZNdV"
      },
      "execution_count": 4,
      "outputs": []
    }
  ]
}