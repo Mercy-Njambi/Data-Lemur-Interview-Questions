{
  "nbformat": 4,
  "nbformat_minor": 0,
  "metadata": {
    "colab": {
      "provenance": [],
      "authorship_tag": "ABX9TyO6P00zjkEQQPn0MtK/K217",
      "include_colab_link": true
    },
    "kernelspec": {
      "name": "python3",
      "display_name": "Python 3"
    },
    "language_info": {
      "name": "python"
    }
  },
  "cells": [
    {
      "cell_type": "markdown",
      "metadata": {
        "id": "view-in-github",
        "colab_type": "text"
      },
      "source": [
        "<a href=\"https://colab.research.google.com/github/Mercy-Njambi/Data-Lemur-Interview-Questions/blob/main/SQL/Easy/IBM_db2_Product_Analytics.ipynb\" target=\"_parent\"><img src=\"https://colab.research.google.com/assets/colab-badge.svg\" alt=\"Open In Colab\"/></a>"
      ]
    },
    {
      "cell_type": "markdown",
      "source": [
        "IBM is analyzing how their employees are utilizing the Db2 database by tracking the SQL queries executed by their employees. The objective is to generate data to populate a histogram that shows the number of unique queries run by employees during the third quarter of 2023 (July to September). Additionally, it should count the number of employees who did not run any queries during this period.\n",
        "\n",
        "Display the number of unique queries as histogram categories, along with the count of employees who executed that number of unique queries.\n",
        "\n",
        "`queries` Schema:\n",
        "\n",
        "|Column Name|\tType\t|Description|\n",
        "|:---|:---|:---|\n",
        "|employee_id|integer|\tThe ID of the employee who executed the query.|\n",
        "|query_id|\tinteger|\tThe unique identifier for each query (Primary Key).|\n",
        "|query_starttime\t|datetime|\tThe timestamp when the query started.|\n",
        "|execution_time|\tinteger|The duration of the query execution in seconds.|\n",
        "\n",
        "`employees` Schema:\n",
        "\n",
        "Assume that the table below displays all employees in the table:\n",
        "\n",
        "|Column Name|\tType\t|Description|\n",
        "|:---|:---|:---|\n",
        "|employee_id|\tinteger\t|The ID of the employee who executed the query.|\n",
        "|full_name\t|string\t|The full name of the employee.|\n",
        "|gender\t|string\t|The gender of the employee.|\n",
        "\n",
        "Example Output:\n",
        "\n",
        "|unique_queries\t|employee_count|\n",
        "|:---|:---|\n",
        "|0\t|191|\n",
        "|1\t|46|\n",
        "|2\t|12|\n",
        "|3\t|1|\n"
      ],
      "metadata": {
        "id": "-nB-HJd59Ukf"
      }
    },
    {
      "cell_type": "code",
      "execution_count": 1,
      "metadata": {
        "id": "UbUJEOnClKJG"
      },
      "outputs": [],
      "source": [
        "query = \"\"\"\n",
        "with emp_query_count as(\n",
        "select\n",
        "  e.employee_id,\n",
        "  COUNT(distinct q.query_id) as count_queries\n",
        "from employees e\n",
        "left join queries q\n",
        "  on e.employee_id = q.employee_id\n",
        "  and (extract(year from query_starttime) = 2023\n",
        "  and extract( month from query_starttime) in (7,8, 9) )\n",
        "group by e.employee_id\n",
        ")\n",
        "\n",
        "select\n",
        "  count_queries as unique_queries,\n",
        "  count(employee_id) as employee_count\n",
        "from emp_query_count\n",
        "group by count_queries\n",
        "order by count_queries asc\n",
        "\"\"\""
      ]
    }
  ]
}