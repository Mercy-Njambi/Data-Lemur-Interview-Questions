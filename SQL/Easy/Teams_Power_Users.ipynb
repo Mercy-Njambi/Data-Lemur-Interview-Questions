{
  "nbformat": 4,
  "nbformat_minor": 0,
  "metadata": {
    "colab": {
      "provenance": [],
      "authorship_tag": "ABX9TyOmaea+tdG7kEZ2AOtfiRl6",
      "include_colab_link": true
    },
    "kernelspec": {
      "name": "python3",
      "display_name": "Python 3"
    },
    "language_info": {
      "name": "python"
    }
  },
  "cells": [
    {
      "cell_type": "markdown",
      "metadata": {
        "id": "view-in-github",
        "colab_type": "text"
      },
      "source": [
        "<a href=\"https://colab.research.google.com/github/Mercy-Njambi/Data-Lemur-Interview-Questions/blob/main/SQL/Easy/Teams_Power_Users.ipynb\" target=\"_parent\"><img src=\"https://colab.research.google.com/assets/colab-badge.svg\" alt=\"Open In Colab\"/></a>"
      ]
    },
    {
      "cell_type": "markdown",
      "source": [
        "Write a query to identify the top 2 Power Users who sent the highest number of messages on Microsoft Teams in August 2022. Display the IDs of these 2 users along with the total number of messages they sent. Output the results in descending order based on the count of the messages.\n",
        "\n",
        "Assumption:\n",
        "\n",
        "No two users have sent the same number of messages in August 2022.\n",
        "\n",
        "`messages` Table:\n",
        "\n",
        "|Column Name|\tType|\n",
        "|:---|:---|\n",
        "|message_id|\tinteger|\n",
        "|sender_id\t|integer|\n",
        "|receiver_id|\tinteger|\n",
        "|content|\tvarchar|\n",
        "|sent_date|\tdatetime|\n",
        "|\n",
        "Example Output:\n",
        "\n",
        "|sender_id|\tmessage_count|\n",
        "|:---|:---|\n",
        "|3601\t|2|\n",
        "|4500\t|1|\n"
      ],
      "metadata": {
        "id": "wl-bOUrdDSoE"
      }
    },
    {
      "cell_type": "code",
      "execution_count": 1,
      "metadata": {
        "id": "9ak8eHRIDJov"
      },
      "outputs": [],
      "source": [
        "query = \"\"\"\n",
        "SELECT sender_id, COUNT(message_id) AS message_count\n",
        "FROM messages\n",
        "WHERE EXTRACT(year FROM sent_date) = 2022 AND EXTRACT(month FROM sent_date)=8\n",
        "GROUP BY sender_id\n",
        "ORDER BY COUNT(message_id) DESC\n",
        "LIMIT 2;\n",
        "\"\"\""
      ]
    }
  ]
}