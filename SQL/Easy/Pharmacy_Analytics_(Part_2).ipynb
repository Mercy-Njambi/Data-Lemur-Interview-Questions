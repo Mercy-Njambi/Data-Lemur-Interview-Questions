{
  "nbformat": 4,
  "nbformat_minor": 0,
  "metadata": {
    "colab": {
      "provenance": [],
      "authorship_tag": "ABX9TyNLPe/aCVFIr9Br8RIV8Jb9",
      "include_colab_link": true
    },
    "kernelspec": {
      "name": "python3",
      "display_name": "Python 3"
    },
    "language_info": {
      "name": "python"
    }
  },
  "cells": [
    {
      "cell_type": "markdown",
      "metadata": {
        "id": "view-in-github",
        "colab_type": "text"
      },
      "source": [
        "<a href=\"https://colab.research.google.com/github/Mercy-Njambi/Data-Lemur-Interview-Questions/blob/main/SQL/Easy/Pharmacy_Analytics_(Part_2).ipynb\" target=\"_parent\"><img src=\"https://colab.research.google.com/assets/colab-badge.svg\" alt=\"Open In Colab\"/></a>"
      ]
    },
    {
      "cell_type": "markdown",
      "source": [
        "CVS Health is analyzing its pharmacy sales data, and how well different products are selling in the market. Each drug is exclusively manufactured by a single manufacturer.\n",
        "\n",
        "Write a query to identify the manufacturers associated with the drugs that resulted in losses for CVS Health and calculate the total amount of losses incurred.\n",
        "\n",
        "Output the manufacturer's name, the number of drugs associated with losses, and the total losses in absolute value. Display the results sorted in descending order with the highest losses displayed at the top.\n",
        "\n",
        "`pharmacy_sales` Table:\n",
        "\n",
        "|Column Name\t|Type|\n",
        "|:---|:---|\n",
        "|product_id\t|integer|\n",
        "|units_sold|\tinteger|\n",
        "|total_sales\t|decimal|\n",
        "|cogs\t|decimal|\n",
        "|manufacturer\t|varchar|\n",
        "|drug\t|varchar|\n",
        "\n",
        "Example Output:\n",
        "\n",
        "|manufacturer\t|drug_count\t|total_loss|\n",
        "|:---|:---|:---|\n",
        "|Biogen|1\t|297324.73|\n",
        "|AbbVie\t|1\t|221429.36|\n",
        "|Eli Lilly\t|1\t|221422.17|\n"
      ],
      "metadata": {
        "id": "QhUk4GT21HSn"
      }
    },
    {
      "cell_type": "code",
      "execution_count": null,
      "metadata": {
        "id": "dnP3mHOkynnp"
      },
      "outputs": [],
      "source": [
        "query = \"\"\"\n",
        "select\n",
        "  manufacturer,\n",
        "  count(drug) as drug_count,\n",
        "  abs(sum(total_sales-cogs)) as total_loss\n",
        "from pharmacy_sales\n",
        "where (total_sales-cogs) <= 0\n",
        "group by manufacturer\n",
        "order by total_loss desc\n",
        "\"\"\""
      ]
    }
  ]
}