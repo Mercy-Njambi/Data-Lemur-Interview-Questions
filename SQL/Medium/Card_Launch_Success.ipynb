{
  "nbformat": 4,
  "nbformat_minor": 0,
  "metadata": {
    "colab": {
      "provenance": [],
      "authorship_tag": "ABX9TyPvMPVmj7/MuMw0PLUfsLbt",
      "include_colab_link": true
    },
    "kernelspec": {
      "name": "python3",
      "display_name": "Python 3"
    },
    "language_info": {
      "name": "python"
    }
  },
  "cells": [
    {
      "cell_type": "markdown",
      "metadata": {
        "id": "view-in-github",
        "colab_type": "text"
      },
      "source": [
        "<a href=\"https://colab.research.google.com/github/Mercy-Njambi/Data-Lemur-Interview-Questions/blob/main/SQL/Medium/Card_Launch_Success.ipynb\" target=\"_parent\"><img src=\"https://colab.research.google.com/assets/colab-badge.svg\" alt=\"Open In Colab\"/></a>"
      ]
    },
    {
      "cell_type": "markdown",
      "source": [
        "Your team at JPMorgan Chase is soon launching a new credit card. You are asked to estimate how many cards you'll issue in the first month.\n",
        "\n",
        "Before you can answer this question, you want to first get some perspective on how well new credit card launches typically do in their first month.\n",
        "\n",
        "Write a query that outputs the name of the credit card, and how many cards were issued in its launch month. The launch month is the earliest record in the monthly_cards_issued table for a given card. Order the results starting from the biggest issued amount.\n",
        "\n",
        "`monthly_cards_issued` Table:\n",
        "\n",
        "|Column Name\t|Type|\n",
        "|:---|:---|\n",
        "|issue_month\t|integer|\n",
        "|issue_year\t|integer|\n",
        "|card_name\t|string|\n",
        "|issued_amount|\tinteger|\n",
        "\n",
        "Example Output:\n",
        "\n",
        "|card_name\t|issued_amount|\n",
        "|:---|:---|\n",
        "|Chase Sapphire Reserve\t|170000|\n",
        "|Chase Freedom Flex\t|65000|\n"
      ],
      "metadata": {
        "id": "6O33dkJppyb6"
      }
    },
    {
      "cell_type": "code",
      "execution_count": null,
      "metadata": {
        "id": "2rSpkUxAps0H"
      },
      "outputs": [],
      "source": [
        "query = \"\"\"\n",
        "select\n",
        "  card_name,\n",
        "    issued_amount\n",
        "from\n",
        "  (select *,\n",
        "    dense_rank() over(partition by card_name order by issue_year asc, issue_month asc) as rank\n",
        "  from monthly_cards_issued) ranked_info\n",
        "where rank = 1\n",
        "order by issued_amount desc\n",
        "\"\"\""
      ]
    }
  ]
}