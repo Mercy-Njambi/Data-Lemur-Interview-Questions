{
  "nbformat": 4,
  "nbformat_minor": 0,
  "metadata": {
    "colab": {
      "provenance": [],
      "authorship_tag": "ABX9TyOs/P4ZVLhQ19r4i8LuXMIO",
      "include_colab_link": true
    },
    "kernelspec": {
      "name": "python3",
      "display_name": "Python 3"
    },
    "language_info": {
      "name": "python"
    }
  },
  "cells": [
    {
      "cell_type": "markdown",
      "metadata": {
        "id": "view-in-github",
        "colab_type": "text"
      },
      "source": [
        "<a href=\"https://colab.research.google.com/github/Mercy-Njambi/Data-Lemur-Interview-Questions/blob/main/SQL/Medium/Odd_and_Even_Measurements_.ipynb\" target=\"_parent\"><img src=\"https://colab.research.google.com/assets/colab-badge.svg\" alt=\"Open In Colab\"/></a>"
      ]
    },
    {
      "cell_type": "markdown",
      "source": [
        "Assume you're given a table with measurement values obtained from a Google sensor over multiple days with measurements taken multiple times within each day.\n",
        "\n",
        "Write a query to calculate the sum of odd-numbered and even-numbered measurements separately for a particular day and display the results in two different columns. Refer to the Example Output below for the desired format.\n",
        "\n",
        "Definition:\n",
        "\n",
        "- Within a day, measurements taken at 1st, 3rd, and 5th times are considered odd-numbered measurements, and measurements taken at 2nd, 4th, and 6th times are considered even-numbered measurements.\n",
        "\n",
        "\n",
        "`measurements` Table:\n",
        "\n",
        "|Column Name\t|Type|\n",
        "|:---|:---|\n",
        "|measurement_id|\tinteger|\n",
        "|measurement_value\t|decimal|\n",
        "|measurement_time|\tdatetime|\n",
        "\n",
        "Example Output:\n",
        "\n",
        "|measurement_day|\todd_sum\t|even_sum|\n",
        "|:---|:---|:---|\n",
        "|07/10/2022 00:00:00|\t2355.75|\t1662.74|\n",
        "|07/11/2022 00:00:00\t|1124.50\t|1234.14|\n"
      ],
      "metadata": {
        "id": "BbfnU6Y9mebw"
      }
    },
    {
      "cell_type": "code",
      "execution_count": null,
      "metadata": {
        "id": "vnQFJE8ymFJt"
      },
      "outputs": [],
      "source": [
        "query = \"\"\"\n",
        "with ranked_measurements as (\n",
        "select\n",
        "  measurement_time::date as measurement_day,\n",
        "  measurement_value,\n",
        "  row_number()over(partition by measurement_time::date order by measurement_time)\n",
        "from measurements\n",
        ")\n",
        "select\n",
        "  measurement_day,\n",
        "  sum(case\n",
        "        when row_number % 2 != 0 then measurement_value\n",
        "        else 0\n",
        "      end) as odd_sum,\n",
        "  sum(case\n",
        "        when row_number % 2 = 0 then measurement_value\n",
        "        else 0\n",
        "      end) as even_sum\n",
        "from ranked_measurements\n",
        "group by measurement_day\n",
        "order by measurement_day\n",
        "\"\"\""
      ]
    }
  ]
}