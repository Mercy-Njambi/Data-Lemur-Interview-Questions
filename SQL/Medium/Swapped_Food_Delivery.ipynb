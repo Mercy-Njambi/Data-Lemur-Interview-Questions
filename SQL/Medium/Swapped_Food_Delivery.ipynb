{
  "nbformat": 4,
  "nbformat_minor": 0,
  "metadata": {
    "colab": {
      "provenance": [],
      "authorship_tag": "ABX9TyPS+OQWK845bfziOEVebUdW",
      "include_colab_link": true
    },
    "kernelspec": {
      "name": "python3",
      "display_name": "Python 3"
    },
    "language_info": {
      "name": "python"
    }
  },
  "cells": [
    {
      "cell_type": "markdown",
      "metadata": {
        "id": "view-in-github",
        "colab_type": "text"
      },
      "source": [
        "<a href=\"https://colab.research.google.com/github/Mercy-Njambi/Data-Lemur-Interview-Questions/blob/main/SQL/Medium/Swapped_Food_Delivery.ipynb\" target=\"_parent\"><img src=\"https://colab.research.google.com/assets/colab-badge.svg\" alt=\"Open In Colab\"/></a>"
      ]
    },
    {
      "cell_type": "markdown",
      "source": [
        "Zomato is a leading online food delivery service that connects users with various restaurants and cuisines, allowing them to browse menus, place orders, and get meals delivered to their doorsteps.\n",
        "\n",
        "Recently, Zomato encountered an issue with their delivery system. Due to an error in the delivery driver instructions, each item's order was swapped with the item in the subsequent row. As a data analyst, you're asked to correct this swapping error and return the proper pairing of order ID and item.\n",
        "\n",
        "If the last item has an odd order ID, it should remain as the last item in the corrected data. For example, if the last item is Order ID 7 Tandoori Chicken, then it should remain as Order ID 7 in the corrected data.\n",
        "\n",
        "In the results, return the correct pairs of order IDs and items.\n",
        "\n",
        "`orders` Schema:\n",
        "\n",
        "|column_name|type\t|description|\n",
        "|:---|:---|:---|\n",
        "|order_id\t|integer\t|The ID of each Zomato order.|\n",
        "|item\t|string\t|The name of the food item in each order.|\n",
        "\n",
        "orders Example Input:\n",
        "\n",
        "Here's a sample of the initial incorrect data:\n",
        "\n",
        "|order_id\t|item|\n",
        "|:---|:---|\n",
        "|1\t|Chow Mein|\n",
        "|2\t|Pizza|\n",
        "|3\t|Pad Thai|\n",
        "|4\t|Butter Chicken|\n",
        "|5\t|Eggrolls|\n",
        "|6\t|Burger|\n",
        "|7\t|Tandoori Chicken|\n",
        "\n",
        "orders Example Output:\n",
        "\n",
        "The corrected data should look like this:\n",
        "\n",
        "|corrected_order_id\t|item|\n",
        "|:---|:---|\n",
        "|1\t|Pizza|\n",
        "|2\t|Chow Mein|\n",
        "|3\t|Butter Chicken|\n",
        "|4\t|Pad Thai|\n",
        "|5\t|Burger|\n",
        "|6\t|Eggrolls|\n",
        "|7\t|Tandoori Chicken|\n"
      ],
      "metadata": {
        "id": "hq-TtY4nSni_"
      }
    },
    {
      "cell_type": "code",
      "execution_count": null,
      "metadata": {
        "id": "pQuYrERg1Jii"
      },
      "outputs": [],
      "source": [
        "query = \"\"\"\n",
        "select\n",
        "  case\n",
        "    when order_id%2 != 0 and order_id=total_orders then order_id\n",
        "    when order_id%2 != 0 and order_id < total_orders then order_id +1\n",
        "    else order_id-1\n",
        "  end as corrected_order_id,\n",
        "  item\n",
        "from orders\n",
        "cross join\n",
        "  (select\n",
        "    count(*) as total_orders\n",
        "  from orders) num_total_orders\n",
        "order by corrected_order_id\n",
        "\"\"\""
      ]
    }
  ]
}