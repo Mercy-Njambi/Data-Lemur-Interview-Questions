{
  "nbformat": 4,
  "nbformat_minor": 0,
  "metadata": {
    "colab": {
      "provenance": [],
      "authorship_tag": "ABX9TyOySZglyfJQb+cKtFPvXtfa",
      "include_colab_link": true
    },
    "kernelspec": {
      "name": "python3",
      "display_name": "Python 3"
    },
    "language_info": {
      "name": "python"
    }
  },
  "cells": [
    {
      "cell_type": "markdown",
      "metadata": {
        "id": "view-in-github",
        "colab_type": "text"
      },
      "source": [
        "<a href=\"https://colab.research.google.com/github/Mercy-Njambi/Data-Lemur-Interview-Questions/blob/main/SQL/Medium/User's_Third_Transaction.ipynb\" target=\"_parent\"><img src=\"https://colab.research.google.com/assets/colab-badge.svg\" alt=\"Open In Colab\"/></a>"
      ]
    },
    {
      "cell_type": "markdown",
      "source": [
        "Assume you are given the table below on Uber transactions made by users. Write a query to obtain the third transaction of every user.\n",
        "\n",
        "Output the user id, spend and transaction date.\n",
        "\n",
        "`transactions` Table:\n",
        "\n",
        "|Column Name|\tType|\n",
        "|:---|:---|\n",
        "|user_id|\tinteger|\n",
        "|spend\t|decimal|\n",
        "|transaction_date|\ttimestamp|\n",
        "\n",
        "Example Output:\n",
        "\n",
        "|user_id\t|spend\t|transaction_date|\n",
        "|:---|:---|:---|\n",
        "|111\t|89.60\t|02/05/2022 12:00:00|\n"
      ],
      "metadata": {
        "id": "06Dp48Okg3nH"
      }
    },
    {
      "cell_type": "code",
      "execution_count": 1,
      "metadata": {
        "id": "Q0_BTALXgt4N"
      },
      "outputs": [],
      "source": [
        "query = \"\"\"\n",
        "select\n",
        "  user_id,\n",
        "  spend,\n",
        "  transaction_date\n",
        "from\n",
        "  (SELECT *,\n",
        "    row_number()over(partition by user_id order by transaction_date asc) as transaction_num\n",
        "  FROM transactions) as num_trans\n",
        "where transaction_num = 3\n",
        "\"\"\""
      ]
    }
  ]
}