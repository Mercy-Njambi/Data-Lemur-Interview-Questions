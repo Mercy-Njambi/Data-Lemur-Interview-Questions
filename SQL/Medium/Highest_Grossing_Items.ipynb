{
  "nbformat": 4,
  "nbformat_minor": 0,
  "metadata": {
    "colab": {
      "provenance": [],
      "authorship_tag": "ABX9TyOpkD7nxUKzzUqym3MmDGch",
      "include_colab_link": true
    },
    "kernelspec": {
      "name": "python3",
      "display_name": "Python 3"
    },
    "language_info": {
      "name": "python"
    }
  },
  "cells": [
    {
      "cell_type": "markdown",
      "metadata": {
        "id": "view-in-github",
        "colab_type": "text"
      },
      "source": [
        "<a href=\"https://colab.research.google.com/github/Mercy-Njambi/Data-Lemur-Interview-Questions/blob/main/SQL/Medium/Highest_Grossing_Items.ipynb\" target=\"_parent\"><img src=\"https://colab.research.google.com/assets/colab-badge.svg\" alt=\"Open In Colab\"/></a>"
      ]
    },
    {
      "cell_type": "markdown",
      "source": [
        "Assume you're given a table containing data on Amazon customers and their spending on products in different category, write a query to identify the top two highest-grossing products within each category in the year 2022. The output should include the category, product, and total spend.\n",
        "\n",
        "`product_spend` Table:\n",
        "\n",
        "|Column Name\t|Type|\n",
        "|:---|:---|\n",
        "|category|\tstring|\n",
        "|product\t|string|\n",
        "|user_id\t|integer|\n",
        "|spend\t|decimal|\n",
        "|transaction_date|\ttimestamp|\n",
        "\n",
        "Example Output:\n",
        "\n",
        "|category\t|product\t|total_spend|\n",
        "|:---|:---|:---|\n",
        "|appliance\t|refrigerator\t|299.99|\n",
        "|appliance\t|washing machine\t|219.80|\n",
        "|electronics\t|vacuum\t|341.00|\n",
        "|electronics\t|wireless headset|\t249.90|\n"
      ],
      "metadata": {
        "id": "8n0Um7jDisDJ"
      }
    },
    {
      "cell_type": "code",
      "execution_count": null,
      "metadata": {
        "id": "GIXbBUFeiaZN"
      },
      "outputs": [],
      "source": [
        "query = \"\"\"\n",
        "with category_product_spend as (\n",
        "select\n",
        "  category,\n",
        "  product,\n",
        "  sum(spend)as total_spend,\n",
        "  rank()over(partition by category order by sum(spend) desc) as category_rank\n",
        "from product_spend\n",
        "where extract(year from transaction_date) = 2022\n",
        "group by category, product\n",
        ")\n",
        "\n",
        "\n",
        "select\n",
        "  category,\n",
        "  product,\n",
        "  total_spend\n",
        "from category_product_spend\n",
        "where category_rank in (1,2)\n",
        "order by category, category_rank\n",
        "\"\"\""
      ]
    }
  ]
}