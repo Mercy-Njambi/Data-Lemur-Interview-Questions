{
  "nbformat": 4,
  "nbformat_minor": 0,
  "metadata": {
    "colab": {
      "provenance": [],
      "authorship_tag": "ABX9TyMEY16COUWi1JM1UhYSkYOp",
      "include_colab_link": true
    },
    "kernelspec": {
      "name": "python3",
      "display_name": "Python 3"
    },
    "language_info": {
      "name": "python"
    }
  },
  "cells": [
    {
      "cell_type": "markdown",
      "metadata": {
        "id": "view-in-github",
        "colab_type": "text"
      },
      "source": [
        "<a href=\"https://colab.research.google.com/github/Mercy-Njambi/Data-Lemur-Interview-Questions/blob/main/SQL/Medium/Top_5_Artists.ipynb\" target=\"_parent\"><img src=\"https://colab.research.google.com/assets/colab-badge.svg\" alt=\"Open In Colab\"/></a>"
      ]
    },
    {
      "cell_type": "markdown",
      "source": [
        "Assume there are three Spotify tables: artists, songs, and global_song_rank, which contain information about the artists, songs, and music charts, respectively.\n",
        "\n",
        "Write a query to find the top 5 artists whose songs appear most frequently in the Top 10 of the global_song_rank table. Display the top 5 artist names in ascending order, along with their song appearance ranking.\n",
        "\n",
        "If two or more artists have the same number of song appearances, they should be assigned the same ranking, and the rank numbers should be continuous (i.e. 1, 2, 2, 3, 4, 5).\n",
        "\n",
        "`artists` Table:\n",
        "\n",
        "|Column Name|Type|\n",
        "|:---|:---|\n",
        "|artist_id\t|integer|\n",
        "|artist_name\t|varchar|\n",
        "|label_owner\t|varchar|\n",
        "\n",
        "`songs` Table:\n",
        "\n",
        "|Column Name\t|Type|\n",
        "|:---|:---|\n",
        "|song_id\t|integer|\n",
        "|artist_id|integer|\n",
        "|ame\t|varchar|\n",
        "\n",
        "`global_song_rank` Table:\n",
        "\n",
        "|Column Name|\tType|\n",
        "|:---|:---|\n",
        "|day\t|integer (1-52)|\n",
        "|song_id|nteger|\n",
        "|rank\t|integer (1-1,000,000)|\n",
        "\n",
        "Example Output:\n",
        "\n",
        "|artist_name|artist_rank|\n",
        "|\n",
        "|Ed Sheeran|\t1|\n",
        "|Drake\t|2|\n"
      ],
      "metadata": {
        "id": "xRifymedGrDp"
      }
    },
    {
      "cell_type": "code",
      "execution_count": null,
      "metadata": {
        "id": "WbTMw-eJGg59"
      },
      "outputs": [],
      "source": [
        "query = \"\"\"\n",
        "WITH top_10_cte AS (\n",
        "  SELECT\n",
        "    artists.artist_name,\n",
        "    DENSE_RANK() OVER (\n",
        "      ORDER BY COUNT(songs.song_id) DESC) AS artist_rank\n",
        "  FROM artists\n",
        "  INNER JOIN songs\n",
        "    ON artists.artist_id = songs.artist_id\n",
        "  INNER JOIN global_song_rank AS ranking\n",
        "    ON songs.song_id = ranking.song_id\n",
        "  WHERE ranking.rank <= 10\n",
        "  GROUP BY artists.artist_name\n",
        ")\n",
        "\n",
        "SELECT artist_name, artist_rank\n",
        "FROM top_10_cte\n",
        "WHERE artist_rank <= 5;\n",
        "\"\"\""
      ]
    }
  ]
}