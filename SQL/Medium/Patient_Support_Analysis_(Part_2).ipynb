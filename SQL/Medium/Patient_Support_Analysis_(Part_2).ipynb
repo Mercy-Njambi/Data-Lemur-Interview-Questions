{
  "nbformat": 4,
  "nbformat_minor": 0,
  "metadata": {
    "colab": {
      "provenance": [],
      "authorship_tag": "ABX9TyP2JJfWaK81UAZ8N5607WZi",
      "include_colab_link": true
    },
    "kernelspec": {
      "name": "python3",
      "display_name": "Python 3"
    },
    "language_info": {
      "name": "python"
    }
  },
  "cells": [
    {
      "cell_type": "markdown",
      "metadata": {
        "id": "view-in-github",
        "colab_type": "text"
      },
      "source": [
        "<a href=\"https://colab.research.google.com/github/Mercy-Njambi/Data-Lemur-Interview-Questions/blob/main/SQL/Medium/Patient_Support_Analysis_(Part_2).ipynb\" target=\"_parent\"><img src=\"https://colab.research.google.com/assets/colab-badge.svg\" alt=\"Open In Colab\"/></a>"
      ]
    },
    {
      "cell_type": "markdown",
      "source": [
        "UnitedHealth Group (UHG) has a program called Advocate4Me, which allows policy holders (or, members) to call an advocate and receive support for their health care needs – whether that's claims and benefits support, drug coverage, pre- and post-authorisation, medical records, emergency assistance, or member portal services.\n",
        "\n",
        "Calls to the Advocate4Me call centre are classified into various categories, but some calls cannot be neatly categorised. These uncategorised calls are labeled as “n/a”, or are left empty when the support agent does not enter anything into the call category field.\n",
        "\n",
        "Write a query to calculate the percentage of calls that cannot be categorised. Round your answer to 1 decimal place. For example, 45.0, 48.5, 57.7.\n",
        "\n",
        "`callers` Table:\n",
        "\n",
        "|Column Name|\tType|\n",
        "|:---|:---|\n",
        "|policy_holder_id|\tinteger|\n",
        "|case_id|\tvarchar|\n",
        "|call_category|\tvarchar|\n",
        "|call_date\t|timestamp|\n",
        "|call_duration_secs\t|integer|\n",
        "\n",
        "Example Output:\n",
        "\n",
        "|uncategorised_call_pct|\n",
        "|:---|\n",
        "|20.0|\n"
      ],
      "metadata": {
        "id": "SdQvs9g_BM6I"
      }
    },
    {
      "cell_type": "code",
      "execution_count": 1,
      "metadata": {
        "id": "DFLT6O-mBEKM"
      },
      "outputs": [],
      "source": [
        "query = \"\"\"\n",
        "with uncategorized_calls as (\n",
        "select\n",
        "  count(case_id) as uncategorized_count\n",
        "from callers\n",
        "where call_category is null\n",
        "  or call_category='n/a'\n",
        ")\n",
        "\n",
        "select round(uncategorized_count::decimal *100/total, 1) as uncategorised_call_pct\n",
        "from uncategorized_calls\n",
        "join\n",
        "  (select\n",
        "    count(case_id) as total\n",
        "  from callers) overall\n",
        "  on 1=1\n",
        "\"\"\""
      ]
    }
  ]
}