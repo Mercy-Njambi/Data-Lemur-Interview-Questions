{
  "nbformat": 4,
  "nbformat_minor": 0,
  "metadata": {
    "colab": {
      "provenance": [],
      "authorship_tag": "ABX9TyNbSdavPrVq8QhRr0Z8vgUp",
      "include_colab_link": true
    },
    "kernelspec": {
      "name": "python3",
      "display_name": "Python 3"
    },
    "language_info": {
      "name": "python"
    }
  },
  "cells": [
    {
      "cell_type": "markdown",
      "metadata": {
        "id": "view-in-github",
        "colab_type": "text"
      },
      "source": [
        "<a href=\"https://colab.research.google.com/github/Mercy-Njambi/Data-Lemur-Interview-Questions/blob/main/SQL/Medium/Tweets'_Rolling_Averages.ipynb\" target=\"_parent\"><img src=\"https://colab.research.google.com/assets/colab-badge.svg\" alt=\"Open In Colab\"/></a>"
      ]
    },
    {
      "cell_type": "markdown",
      "source": [
        "Given a table of tweet data over a specified time period, calculate the 3-day rolling average of tweets for each user. Output the user ID, tweet date, and rolling averages rounded to 2 decimal places.\n",
        "\n",
        "Notes:\n",
        "\n",
        "- A rolling average, also known as a moving average or running mean is a time-series technique that examines trends in data over a specified period of time.\n",
        "- In this case, we want to determine how the tweet count for each user changes over a 3-day period.\n",
        "\n",
        "\n",
        "`tweets` Table:\n",
        "\n",
        "|Column Name\t|Type|\n",
        "|:---|:---|\n",
        "|user_id\t|integer|\n",
        "|tweet_date\t|timestamp|\n",
        "|tweet_count\t|integer|\n",
        "\n",
        "Example Output:\n",
        "\n",
        "|user_id\t|tweet_date\t|rolling_avg_3d|\n",
        "|:---|:---|:---|\n",
        "|111|\t06/01/2022 00:00:00|\t2.00|\n",
        "|111\t|06/02/2022 00:00:00\t|1.50|\n",
        "|111\t|06/03/2022 00:00:00\t|2.00|\n",
        "|111\t|06/04/2022 00:00:00|\t2.67|\n",
        "|111\t|06/05/2022 00:00:00\t|4.00|\n"
      ],
      "metadata": {
        "id": "lwO3nLCjdiAZ"
      }
    },
    {
      "cell_type": "code",
      "execution_count": 1,
      "metadata": {
        "id": "8m4yYXrHdN92"
      },
      "outputs": [],
      "source": [
        "query = \"\"\"\n",
        "select\n",
        "  user_id,\n",
        "  tweet_date,\n",
        "  round(avg(tweet_count) over(partition by user_id order by tweet_date asc rows between 2 preceding and current row), 2) as rolling_avg_3d\n",
        "from tweets\n",
        "\"\"\""
      ]
    },
    {
      "cell_type": "code",
      "source": [
        "query2 = \"\"\"\n",
        "select\n",
        "  user_id,\n",
        "  tweet_date,\n",
        "  round(avg(tweet_count) over(partition by user_id order by tweet_date asc rows between 2 preceding and 0 preceding), 2) as rolling_avg_3d\n",
        "from tweets\n",
        "\"\"\""
      ],
      "metadata": {
        "id": "mHkHP3BNdV1o"
      },
      "execution_count": 2,
      "outputs": []
    }
  ]
}