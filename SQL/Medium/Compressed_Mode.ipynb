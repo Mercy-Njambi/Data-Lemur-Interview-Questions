{
  "nbformat": 4,
  "nbformat_minor": 0,
  "metadata": {
    "colab": {
      "provenance": [],
      "authorship_tag": "ABX9TyOCTUcMc1qzOLUVusC81YeA",
      "include_colab_link": true
    },
    "kernelspec": {
      "name": "python3",
      "display_name": "Python 3"
    },
    "language_info": {
      "name": "python"
    }
  },
  "cells": [
    {
      "cell_type": "markdown",
      "metadata": {
        "id": "view-in-github",
        "colab_type": "text"
      },
      "source": [
        "<a href=\"https://colab.research.google.com/github/Mercy-Njambi/Data-Lemur-Interview-Questions/blob/main/SQL/Medium/Compressed_Mode.ipynb\" target=\"_parent\"><img src=\"https://colab.research.google.com/assets/colab-badge.svg\" alt=\"Open In Colab\"/></a>"
      ]
    },
    {
      "cell_type": "markdown",
      "source": [
        "You're given a table containing the item count for each order on Alibaba, along with the frequency of orders that have the same item count. Write a query to retrieve the mode of the order occurrences. Additionally, if there are multiple item counts with the same mode, the results should be sorted in ascending order.\n",
        "\n",
        "Clarifications:\n",
        "\n",
        "- item_count: Represents the number of items sold in each order.\n",
        "- order_occurrences: Represents the frequency of orders with the corresponding number of items sold per order.\n",
        "- For example, if there are 800 orders with 3 items sold in each order, the record would have an item_count of 3 and an order_occurrences of 800.\n",
        "\n",
        "\n",
        "`items_per_order` Table:\n",
        "\n",
        "|Column Name|\tType|\n",
        "|:---|:---|\n",
        "|item_count\t|integer|\n",
        "|order_occurrences\t|integer|\n",
        "\n",
        "items_per_order Example Input:\n",
        "\n",
        "|item_count\t|order_occurrences|\n",
        "|:---|:---|\n",
        "|1\t|500|\n",
        "|\t|1000|\n",
        "|3\t|800|\n",
        "Example Output:\n",
        "\n",
        "|mode|\n",
        "|:---|\n",
        "|2|\n"
      ],
      "metadata": {
        "id": "GdqZ2DYj7zJK"
      }
    },
    {
      "cell_type": "code",
      "execution_count": null,
      "metadata": {
        "id": "VYu52hEa7slR"
      },
      "outputs": [],
      "source": [
        "query = \"\"\"\n",
        "SELECT item_count AS mode\n",
        "FROM items_per_order\n",
        "WHERE order_occurrences = (\n",
        "  SELECT\n",
        "    MAX(order_occurrences)\n",
        "  FROM items_per_order\n",
        ")\n",
        "ORDER BY item_count;\n",
        "\"\"\""
      ]
    }
  ]
}