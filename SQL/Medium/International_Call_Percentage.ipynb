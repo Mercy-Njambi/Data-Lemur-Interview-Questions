{
  "nbformat": 4,
  "nbformat_minor": 0,
  "metadata": {
    "colab": {
      "provenance": [],
      "authorship_tag": "ABX9TyNuRXLXxI2JxDJPLQOfdlgv",
      "include_colab_link": true
    },
    "kernelspec": {
      "name": "python3",
      "display_name": "Python 3"
    },
    "language_info": {
      "name": "python"
    }
  },
  "cells": [
    {
      "cell_type": "markdown",
      "metadata": {
        "id": "view-in-github",
        "colab_type": "text"
      },
      "source": [
        "<a href=\"https://colab.research.google.com/github/Mercy-Njambi/Data-Lemur-Interview-Questions/blob/main/SQL/Medium/International_Call_Percentage.ipynb\" target=\"_parent\"><img src=\"https://colab.research.google.com/assets/colab-badge.svg\" alt=\"Open In Colab\"/></a>"
      ]
    },
    {
      "cell_type": "markdown",
      "source": [
        "A phone call is considered an international call when the person calling is in a different country than the person receiving the call.\n",
        "\n",
        "What percentage of phone calls are international? Round the result to 1 decimal.\n",
        "\n",
        "Assumption:\n",
        "\n",
        "- The caller_id in phone_info table refers to both the caller and receiver.\n",
        "\n",
        "`phone_calls` Table:\n",
        "\n",
        "|Column Name|\tType|\n",
        "|:---|:---|\n",
        "|caller_id\t|integer|\n",
        "|receiver_id\t|integer|\n",
        "|call_time\t|timestamp|\n",
        "\n",
        "`phone_info` Table:\n",
        "\n",
        "|Column Name\t|Type|\n",
        "|:---|:---|\n",
        "|caller_id\t|integer|\n",
        "|country_id\t|integer|\n",
        "|network\t|integer|\n",
        "|phone_number\t|string|\n",
        "\n",
        "Example Output:\n",
        "\n",
        "|international_calls_pct|\n",
        "|:---|\n",
        "|50.0|\n"
      ],
      "metadata": {
        "id": "KodO1SakkXZH"
      }
    },
    {
      "cell_type": "code",
      "execution_count": null,
      "metadata": {
        "id": "r0Syt_kokR-F"
      },
      "outputs": [],
      "source": [
        "query = \"\"\"\n",
        "with all_calls_info as (\n",
        "select\n",
        "  calls.caller_id,\n",
        "  info.country_id as caller_country_id,\n",
        "  calls.receiver_id,\n",
        "  rec_info.country_id as receiver_country_id\n",
        "from phone_calls as calls\n",
        "left join phone_info as info\n",
        "  on calls.caller_id = info.caller_id\n",
        "left join phone_info as rec_info\n",
        " on calls.receiver_id = rec_info.caller_id\n",
        ")\n",
        "select\n",
        "  round(count(\n",
        "        case\n",
        "          when caller_country_id != receiver_country_id then 1\n",
        "          else null\n",
        "        end) * 100.0/count(*), 1) as international_calls_pct\n",
        "from all_calls_info\n",
        "\"\"\""
      ]
    }
  ]
}