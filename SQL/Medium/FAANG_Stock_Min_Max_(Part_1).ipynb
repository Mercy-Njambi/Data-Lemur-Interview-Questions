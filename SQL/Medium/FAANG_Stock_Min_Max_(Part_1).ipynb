{
  "nbformat": 4,
  "nbformat_minor": 0,
  "metadata": {
    "colab": {
      "provenance": [],
      "authorship_tag": "ABX9TyNtCcgxJQPK0aeGaBqieAyC",
      "include_colab_link": true
    },
    "kernelspec": {
      "name": "python3",
      "display_name": "Python 3"
    },
    "language_info": {
      "name": "python"
    }
  },
  "cells": [
    {
      "cell_type": "markdown",
      "metadata": {
        "id": "view-in-github",
        "colab_type": "text"
      },
      "source": [
        "<a href=\"https://colab.research.google.com/github/Mercy-Njambi/Data-Lemur-Interview-Questions/blob/main/SQL/Medium/FAANG_Stock_Min_Max_(Part_1).ipynb\" target=\"_parent\"><img src=\"https://colab.research.google.com/assets/colab-badge.svg\" alt=\"Open In Colab\"/></a>"
      ]
    },
    {
      "cell_type": "markdown",
      "source": [
        "The Bloomberg terminal is the go-to resource for financial professionals, offering convenient access to a wide array of financial datasets. As a Data Analyst at Bloomberg, you have access to historical data on stock performance.\n",
        "\n",
        "Currently, you're analyzing the highest and lowest open prices for each FAANG stock by month over the years.\n",
        "\n",
        "For each FAANG stock, display the ticker symbol, the month and year ('Mon-YYYY') with the corresponding highest and lowest open prices (refer to the Example Output format). Ensure that the results are sorted by ticker symbol.\n",
        "\n",
        "`stock_prices` Schema:\n",
        "\n",
        "|Column Name|\tType\t|Description|\n",
        "|:---|:---|:---|\n",
        "|date\t|datetime\t|The specified date (mm/dd/yyyy) of the stock data.|\n",
        "|ticker\t|varchar\t|The stock ticker symbol (e.g., AAPL) for the corresponding company.|\n",
        "|open\t|decimal\t|The opening price of the stock at the start of the trading day.|\n",
        "|high|decimal\t|The highest price reached by the stock during the trading day.|\n",
        "|low\t|decimal\t|The lowest price reached by the stock during the trading day.|\n",
        "|close\t|decimal\t|The closing price of the stock at the end of the trading day.|\n",
        "\n",
        "Example Output:\n",
        "\n",
        "|ticker\t|highest_mth\t|highest_open\t|lowest_mth\t|lowest_open|\n",
        "|:---|:---|:---|:---|:---|\n",
        "|AAPL\t|May-2023|\t176.76|\tJan-2023|\t142.28|\n"
      ],
      "metadata": {
        "id": "jj5PvEKUQgwt"
      }
    },
    {
      "cell_type": "code",
      "execution_count": null,
      "metadata": {
        "id": "rcGdMw5JPMZH"
      },
      "outputs": [],
      "source": [
        "query = \"\"\"\n",
        "with ticker_info as (\n",
        "select\n",
        "  ticker,\n",
        "  date,\n",
        "  open,\n",
        "  dense_rank() over(partition by ticker order by open desc) as max_rank,\n",
        "  dense_rank() over(partition by ticker order by open asc) as min_rank\n",
        "from stock_prices\n",
        ")\n",
        "select\n",
        "  ticker,\n",
        "  to_char(max(case when max_rank = 1 then date end), 'Mon-YYYY') highest_mth,\n",
        "  max(open) as highest_open,\n",
        "  to_char(max(case when min_rank = 1 then date end), 'Mon-YYYY') lowest_mth,\n",
        "  min(open) as lowest_open\n",
        "from ticker_info\n",
        "group by ticker\n",
        "\"\"\""
      ]
    }
  ]
}