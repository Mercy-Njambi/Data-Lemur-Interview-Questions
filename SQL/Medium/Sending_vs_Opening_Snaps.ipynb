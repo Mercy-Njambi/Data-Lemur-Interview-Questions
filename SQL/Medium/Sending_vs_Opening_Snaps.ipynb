{
  "nbformat": 4,
  "nbformat_minor": 0,
  "metadata": {
    "colab": {
      "provenance": [],
      "authorship_tag": "ABX9TyNVD5+3/ZyyogStCPfvcqeS",
      "include_colab_link": true
    },
    "kernelspec": {
      "name": "python3",
      "display_name": "Python 3"
    },
    "language_info": {
      "name": "python"
    }
  },
  "cells": [
    {
      "cell_type": "markdown",
      "metadata": {
        "id": "view-in-github",
        "colab_type": "text"
      },
      "source": [
        "<a href=\"https://colab.research.google.com/github/Mercy-Njambi/Data-Lemur-Interview-Questions/blob/main/SQL/Medium/Sending_vs_Opening_Snaps.ipynb\" target=\"_parent\"><img src=\"https://colab.research.google.com/assets/colab-badge.svg\" alt=\"Open In Colab\"/></a>"
      ]
    },
    {
      "cell_type": "markdown",
      "source": [
        "Assume you're given tables with information on Snapchat users, including their ages and time spent sending and opening snaps.\n",
        "\n",
        "Write a query to obtain a breakdown of the time spent sending vs. opening snaps as a percentage of total time spent on these activities grouped by age group. Round the percentage to 2 decimal places in the output.\n",
        "\n",
        "Notes:\n",
        "\n",
        "- Calculate the following percentages:\n",
        "  1. time spent sending / (Time spent sending + Time spent opening)\n",
        "  2. Time spent opening / (Time spent sending + Time spent opening)\n",
        "- To avoid integer division in percentages, multiply by 100.0 and not 100.\n",
        "\n",
        "\n",
        "`activities` Table\n",
        "\n",
        "|Column Name\t|Type|\n",
        "|:---|:---|\n",
        "|activity_id\t|integer|\n",
        "|user_id|\tinteger|\n",
        "|activity_type\t|string ('send', 'open', 'chat')|\n",
        "|time_spent\t|float|\n",
        "|activity_date|\tdatetime|\n",
        "\n",
        "`age_breakdown` Table\n",
        "\n",
        "|Column Name\t|Type|\n",
        "|:---|:---|\n",
        "|user_id\t|integer|\n",
        "|age_bucket\t|string ('21-25', '26-30', '31-25')|\n",
        "\n",
        "Example Output\n",
        "\n",
        "|age_bucket\t|send_perc\t|open_perc|\n",
        "|:---|:---|:----|\n",
        "|26-30\t|65.40\t|34.60|\n",
        "|31-35\t|43.75|56.25|\n"
      ],
      "metadata": {
        "id": "ayb5Tm3JSGe4"
      }
    },
    {
      "cell_type": "code",
      "execution_count": null,
      "metadata": {
        "id": "C1HMJi0QR93f"
      },
      "outputs": [],
      "source": [
        "query = \"\"\"\n",
        "with ages_times_spent as (\n",
        "select\n",
        "  age_bucket,\n",
        "  sum(case when activity_type = 'open' then time_spent else 0 end) as open_time,\n",
        "  sum(case when activity_type = 'send' then time_spent else 0 end) as send_time,\n",
        "  sum(time_spent) as total_time\n",
        "from age_breakdown age\n",
        "join activities act\n",
        "  on age.user_id = act.user_id\n",
        "where activity_type in ('open', 'send')\n",
        "group by age_bucket)\n",
        "\n",
        "select\n",
        "  age_bucket,\n",
        "  round((open_time*100.0/total_time),2) as open_perc,\n",
        "  round((send_time*100.0/total_time),2) as send_perc\n",
        "from ages_times_spent\n",
        "\"\"\""
      ]
    }
  ]
}