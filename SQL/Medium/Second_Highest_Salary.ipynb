{
  "nbformat": 4,
  "nbformat_minor": 0,
  "metadata": {
    "colab": {
      "provenance": [],
      "authorship_tag": "ABX9TyP4gyLgN+Yq57kEgNBAE9Qj",
      "include_colab_link": true
    },
    "kernelspec": {
      "name": "python3",
      "display_name": "Python 3"
    },
    "language_info": {
      "name": "python"
    }
  },
  "cells": [
    {
      "cell_type": "markdown",
      "metadata": {
        "id": "view-in-github",
        "colab_type": "text"
      },
      "source": [
        "<a href=\"https://colab.research.google.com/github/Mercy-Njambi/Data-Lemur-Interview-Questions/blob/main/SQL/Medium/Second_Highest_Salary.ipynb\" target=\"_parent\"><img src=\"https://colab.research.google.com/assets/colab-badge.svg\" alt=\"Open In Colab\"/></a>"
      ]
    },
    {
      "cell_type": "markdown",
      "source": [
        "Imagine you're an HR analyst at a tech company tasked with analyzing employee salaries. Your manager is keen on understanding the pay distribution and asks you to determine the second highest salary among all employees.\n",
        "\n",
        "It's possible that multiple employees may share the same second highest salary. In case of duplicate, display the salary only once.\n",
        "\n",
        "`employee` Schema:\n",
        "\n",
        "|column_name|\ttype|\tdescription|\n",
        "|:---|:---|:---|\n",
        "|employee_id\t|integer\t|The unique ID of the employee.|\n",
        "|name\t|string|The name of the employee.|\n",
        "|salary|\tinteger|\tThe salary of the employee.|\n",
        "|department_id|\tinteger\t|The department ID of the employee.|\n",
        "|manager_id\t|integer\t|The manager ID of the employee.|\n",
        "\n",
        "Example Output:\n",
        "\n",
        "|second_highest_salary|\n",
        "|:---|\n",
        "|2230|\n"
      ],
      "metadata": {
        "id": "uqUnXZJWIuyP"
      }
    },
    {
      "cell_type": "code",
      "execution_count": null,
      "metadata": {
        "id": "qVKySk32HhBG"
      },
      "outputs": [],
      "source": [
        "query = \"\"\"\n",
        "select salary as second_highest_salary\n",
        "from employee\n",
        "order by salary desc\n",
        "limit 1 offset 1\n",
        "\"\"\""
      ]
    },
    {
      "cell_type": "code",
      "source": [
        "query_2 = \"\"\"\n",
        "select distinct salary as second_highest_salary\n",
        "from\n",
        "  (select\n",
        "    salary,\n",
        "    dense_rank()over(order by salary desc) as salary_rank\n",
        "  from employee) as ranked_salary\n",
        "where salary_rank = 2\n",
        "\"\"\"\n"
      ],
      "metadata": {
        "id": "-E1pSedPKtjT"
      },
      "execution_count": 1,
      "outputs": []
    }
  ]
}