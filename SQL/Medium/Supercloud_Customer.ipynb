{
  "nbformat": 4,
  "nbformat_minor": 0,
  "metadata": {
    "colab": {
      "provenance": [],
      "authorship_tag": "ABX9TyP/A19LahDdsYNiG1ItncT4",
      "include_colab_link": true
    },
    "kernelspec": {
      "name": "python3",
      "display_name": "Python 3"
    },
    "language_info": {
      "name": "python"
    }
  },
  "cells": [
    {
      "cell_type": "markdown",
      "metadata": {
        "id": "view-in-github",
        "colab_type": "text"
      },
      "source": [
        "<a href=\"https://colab.research.google.com/github/Mercy-Njambi/Data-Lemur-Interview-Questions/blob/main/SQL/Medium/Supercloud_Customer.ipynb\" target=\"_parent\"><img src=\"https://colab.research.google.com/assets/colab-badge.svg\" alt=\"Open In Colab\"/></a>"
      ]
    },
    {
      "cell_type": "markdown",
      "source": [
        "A Microsoft Azure Supercloud customer is defined as a customer who has purchased at least one product from every product category listed in the products table.\n",
        "\n",
        "Write a query that identifies the customer IDs of these Supercloud customers.\n",
        "\n",
        "`customer_contracts` Table:\n",
        "\n",
        "|Column Name|\tType|\n",
        "|:---|:---|\n",
        "|customer_id\t|integer|\n",
        "|product_id|\tinteger|\n",
        "|amount\t|integer|\n",
        "\n",
        "`products` Table:\n",
        "\n",
        "|Column Name|\tType|\n",
        "|:---|:---|\n",
        "|product_id|\tinteger|\n",
        "|product_category|\tstring|\n",
        "|product_name\t|string|\n",
        "\n",
        "Example Output:\n",
        "\n",
        "|customer_id|\n",
        "|:---|\n",
        "|1|\n"
      ],
      "metadata": {
        "id": "WksGKh3lVPYf"
      }
    },
    {
      "cell_type": "code",
      "execution_count": null,
      "metadata": {
        "id": "X10rDVrJQ4gb"
      },
      "outputs": [],
      "source": [
        "query = \"\"\"\n",
        "select\n",
        "  customer_id\n",
        "from customer_contracts c\n",
        "left join products p\n",
        "  on c.product_id = p.product_id\n",
        "group by customer_id\n",
        "having count(distinct p.product_category) = (select count(distinct product_category) from products)\n",
        "\"\"\""
      ]
    }
  ]
}