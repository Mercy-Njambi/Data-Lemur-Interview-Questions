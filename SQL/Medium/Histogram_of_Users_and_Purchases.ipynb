{
  "nbformat": 4,
  "nbformat_minor": 0,
  "metadata": {
    "colab": {
      "provenance": [],
      "authorship_tag": "ABX9TyOGhBC9VdoutR+XkaO9BNvO",
      "include_colab_link": true
    },
    "kernelspec": {
      "name": "python3",
      "display_name": "Python 3"
    },
    "language_info": {
      "name": "python"
    }
  },
  "cells": [
    {
      "cell_type": "markdown",
      "metadata": {
        "id": "view-in-github",
        "colab_type": "text"
      },
      "source": [
        "<a href=\"https://colab.research.google.com/github/Mercy-Njambi/Data-Lemur-Interview-Questions/blob/main/SQL/Medium/Histogram_of_Users_and_Purchases.ipynb\" target=\"_parent\"><img src=\"https://colab.research.google.com/assets/colab-badge.svg\" alt=\"Open In Colab\"/></a>"
      ]
    },
    {
      "cell_type": "markdown",
      "source": [
        "Assume you're given a table on Walmart user transactions. Based on their most recent transaction date, write a query that retrieve the users along with the number of products they bought.\n",
        "\n",
        "Output the user's most recent transaction date, user ID, and the number of products, sorted in chronological order by the transaction date.\n",
        "\n",
        "`user_transactions` Table:\n",
        "\n",
        "|Column Name|\tType|\n",
        "|:---|:---|\n",
        "|product_id|\tinteger|\n",
        "|user_id\t|integer|\n",
        "|spend\t|decimal|\n",
        "|transaction_date\t|timestamp|\n",
        "\n",
        "Example Output:\n",
        "\n",
        "|transaction_date|\tuser_id\t|purchase_count|\n",
        "|:---|:---|:---|\n",
        "|07/08/2022 12:00:00\t|115\t|1|\n",
        "|07/08/2022 12:00:000\t|123|\t2|\n",
        "|07/10/2022 12:00:00\t|159\t|1|\n"
      ],
      "metadata": {
        "id": "D6HizEM3Bkb0"
      }
    },
    {
      "cell_type": "code",
      "execution_count": null,
      "metadata": {
        "id": "RTfHEOhwBcJj"
      },
      "outputs": [],
      "source": [
        "query = \"\"\"\n",
        "select\n",
        "  transaction_date,\n",
        "  user_id,\n",
        "  count(product_id) as purchase_count\n",
        "from\n",
        "  (select *,\n",
        "    dense_rank() over(partition by user_id order by transaction_date desc) rnk\n",
        "  from user_transactions) ranked\n",
        "where rnk = 1\n",
        "group by transaction_date, user_id\n",
        "order by transaction_date\n",
        "\"\"\""
      ]
    }
  ]
}