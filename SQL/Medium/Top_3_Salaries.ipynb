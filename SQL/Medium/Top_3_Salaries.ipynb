{
  "nbformat": 4,
  "nbformat_minor": 0,
  "metadata": {
    "colab": {
      "provenance": [],
      "authorship_tag": "ABX9TyPiPOSSRZnynH27alXUeBOK",
      "include_colab_link": true
    },
    "kernelspec": {
      "name": "python3",
      "display_name": "Python 3"
    },
    "language_info": {
      "name": "python"
    }
  },
  "cells": [
    {
      "cell_type": "markdown",
      "metadata": {
        "id": "view-in-github",
        "colab_type": "text"
      },
      "source": [
        "<a href=\"https://colab.research.google.com/github/Mercy-Njambi/Data-Lemur-Interview-Questions/blob/main/SQL/Medium/Top_3_Salaries.ipynb\" target=\"_parent\"><img src=\"https://colab.research.google.com/assets/colab-badge.svg\" alt=\"Open In Colab\"/></a>"
      ]
    },
    {
      "cell_type": "markdown",
      "source": [
        "As part of an ongoing analysis of salary distribution within the company, your manager has requested a report identifying high earners in each department. A 'high earner' within a department is defined as an employee with a salary ranking among the top three salaries within that department.\n",
        "\n",
        "You're tasked with identifying these high earners across all departments. Write a query to display the employee's name along with their department name and salary. In case of duplicates, sort the results of department name in ascending order, then by salary in descending order. If multiple employees have the same salary, then order them alphabetically.\n",
        "\n",
        "Note: Ensure to utilize the appropriate ranking window function to handle duplicate salaries effectively.\n",
        "\n",
        "`employee` Schema:\n",
        "\n",
        "|column_name|\ttype\t|description|\n",
        "|:---|:---|:---|\n",
        "|employee_id\t|integer\t|The unique ID of the employee.|\n",
        "|name\t|string\t|The name of the employee.|\n",
        "|salary\t|integer\t|The salary of the employee.\n",
        "|department_id\t|integer|\tThe department ID of the employee.|\n",
        "|manager_id\t|integer|\tThe manager ID of the employee.|\n",
        "\n",
        "`department` Schema:\n",
        "\n",
        "|column_name\t|type\t|description|\n",
        "|:---|:---|:---|\n",
        "|department_id\t|integer\t|The department ID of the employee.|\n",
        "|department_name\t|string\t|The name of the department.|\n",
        "\n",
        "Example Output:\n",
        "\n",
        "|department_name|\tname\t|salary|\n",
        "|:---|:---|:---|\n",
        "|Data Analytics\t|James Anderson\t|4000|\n",
        "|Data Analytics|\tEmma Thompson\t|3800|\n",
        "|Data Analytics|\tDaniel Rodriguez|\t2230|\n",
        "|Data Science|\tNoah Johnson|\t6800|\n",
        "|Data Science|\tWilliam Davis\t|6800|\n",
        "\n"
      ],
      "metadata": {
        "id": "FFafHLez2H0X"
      }
    },
    {
      "cell_type": "code",
      "execution_count": 1,
      "metadata": {
        "id": "0MCnOUkZ2ChF"
      },
      "outputs": [],
      "source": [
        "query = \"\"\"\n",
        "with salary_rank as (\n",
        "select\n",
        "  employee_id,\n",
        "  name,\n",
        "  salary,\n",
        "  department_name,\n",
        "  dense_rank() over(partition by e.department_id order by salary desc) as rank\n",
        "from employee e\n",
        "right join department d\n",
        "  on e.department_id = d.department_id\n",
        ")\n",
        "\n",
        "select\n",
        "  department_name,\n",
        "  name,\n",
        "  salary\n",
        "from salary_rank\n",
        "where rank <=3\n",
        "order by\n",
        "  department_name asc,\n",
        "  rank asc,\n",
        "  name asc\n",
        "\"\"\""
      ]
    },
    {
      "cell_type": "code",
      "source": [],
      "metadata": {
        "id": "J_IhQ4pW2GuR"
      },
      "execution_count": null,
      "outputs": []
    }
  ]
}