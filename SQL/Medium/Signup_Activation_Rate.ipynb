{
  "nbformat": 4,
  "nbformat_minor": 0,
  "metadata": {
    "colab": {
      "provenance": [],
      "authorship_tag": "ABX9TyMw2uguHJZqJGAHm0QKthGy",
      "include_colab_link": true
    },
    "kernelspec": {
      "name": "python3",
      "display_name": "Python 3"
    },
    "language_info": {
      "name": "python"
    }
  },
  "cells": [
    {
      "cell_type": "markdown",
      "metadata": {
        "id": "view-in-github",
        "colab_type": "text"
      },
      "source": [
        "<a href=\"https://colab.research.google.com/github/Mercy-Njambi/Data-Lemur-Interview-Questions/blob/main/SQL/Medium/Signup_Activation_Rate.ipynb\" target=\"_parent\"><img src=\"https://colab.research.google.com/assets/colab-badge.svg\" alt=\"Open In Colab\"/></a>"
      ]
    },
    {
      "cell_type": "markdown",
      "source": [
        "New TikTok users sign up with their emails. They confirmed their signup by replying to the text confirmation to activate their accounts. Users may receive multiple text messages for account confirmation until they have confirmed their new account.\n",
        "\n",
        "A senior analyst is interested to know the activation rate of specified users in the emails table. Write a query to find the activation rate. Round the percentage to 2 decimal places.\n",
        "\n",
        "Definitions:\n",
        "\n",
        "- emails table contain the information of user signup details.\n",
        "- texts table contains the users' activation information.\n",
        "\n",
        "Assumptions:\n",
        "\n",
        "- The analyst is interested in the activation rate of specific users in the emails table, which may not include all users that could potentially be found in the texts table.\n",
        "- For example, user 123 in the emails table may not be in the texts table and vice versa.\n",
        "\n",
        "\n",
        "`emails` Table:\n",
        "\n",
        "|Column Name|\tType|\n",
        "|:---|:---|\n",
        "|email_id\t|integer|\n",
        "|user_id\t|integer|\n",
        "|signup_date\t|datetime|\n",
        "\n",
        "`texts` Table:\n",
        "\n",
        "|Column Name\t|Type|\n",
        "|:---|:---|\n",
        "|text_id|integer|\n",
        "|mail_id\t|integer|\n",
        "|signup_action|\tvarchar|\n",
        "\n",
        "'Confirmed' in signup_action means the user has activated their account and successfully completed the signup process.\n",
        "\n",
        "Example Output:\n",
        "\n",
        "|confirm_rate|\n",
        "|:---|\n",
        "|0.67|\n"
      ],
      "metadata": {
        "id": "80KXVRFQK6vw"
      }
    },
    {
      "cell_type": "code",
      "execution_count": null,
      "metadata": {
        "id": "7de_DRb3Jrz3"
      },
      "outputs": [],
      "source": [
        "query = \"\"\"\n",
        "select\n",
        "  round(count(case when signup_action = 'Confirmed' then 1 else null end)::numeric /\n",
        "  count(text_id), 2) as confirm_rate\n",
        "from emails\n",
        "left join texts\n",
        "  on emails.email_id = texts.email_id\n",
        "where text_id is not null\n",
        "\"\"\""
      ]
    }
  ]
}