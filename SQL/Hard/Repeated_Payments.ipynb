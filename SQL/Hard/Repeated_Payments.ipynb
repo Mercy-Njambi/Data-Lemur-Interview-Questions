{
  "nbformat": 4,
  "nbformat_minor": 0,
  "metadata": {
    "colab": {
      "provenance": [],
      "authorship_tag": "ABX9TyNYsesIaX6pVaNSZBEz93Dg",
      "include_colab_link": true
    },
    "kernelspec": {
      "name": "python3",
      "display_name": "Python 3"
    },
    "language_info": {
      "name": "python"
    }
  },
  "cells": [
    {
      "cell_type": "markdown",
      "metadata": {
        "id": "view-in-github",
        "colab_type": "text"
      },
      "source": [
        "<a href=\"https://colab.research.google.com/github/Mercy-Njambi/Data-Lemur-Interview-Questions/blob/main/SQL/Hard/Repeated_Payments.ipynb\" target=\"_parent\"><img src=\"https://colab.research.google.com/assets/colab-badge.svg\" alt=\"Open In Colab\"/></a>"
      ]
    },
    {
      "cell_type": "markdown",
      "source": [
        "Sometimes, payment transactions are repeated by accident; it could be due to user error, API failure or a retry error that causes a credit card to be charged twice.\n",
        "\n",
        "Using the transactions table, identify any payments made at the same merchant with the same credit card for the same amount within 10 minutes of each other. Count such repeated payments.\n",
        "\n",
        "Assumptions:\n",
        "\n",
        "- The first transaction of such payments should not be counted as a repeated payment. This means, if there are two transactions performed by a merchant with the same credit card and for the same amount within 10 minutes, there will only be 1 repeated payment.\n",
        "\n",
        "`transactions` Table:\n",
        "\n",
        "|Column Name\t|Type|\n",
        "|:---|:---|\n",
        "|transaction_id\t|integer|\n",
        "|merchant_id|\tinteger|\n",
        "|credit_card_id|\tinteger|\n",
        "|amount|\tinteger|\n",
        "|transaction_timestamp|\tdatetime|\n",
        "\n",
        "Example Output:\n",
        "\n",
        "|payment_count|\n",
        "|:---|\n",
        "|1|\n"
      ],
      "metadata": {
        "id": "Zdu-05CLEFNK"
      }
    },
    {
      "cell_type": "code",
      "execution_count": null,
      "metadata": {
        "id": "qf-GXXG4D1sL"
      },
      "outputs": [],
      "source": [
        "query = \"\"\"\n",
        "with ordered_data as (\n",
        "select\n",
        "  merchant_id,\n",
        "  credit_card_id,\n",
        "  transaction_timestamp,\n",
        "  extract(epoch from(lead(transaction_timestamp) over(partition by merchant_id, credit_card_id order by transaction_timestamp) - transaction_timestamp)) seconds_difference,\n",
        "  amount,\n",
        "  lead(amount) over(partition by merchant_id, credit_card_id order by transaction_timestamp) next_amount\n",
        "from transactions\n",
        "order by merchant_id, credit_card_id, transaction_timestamp\n",
        ")\n",
        "select\n",
        "  count(*) as payment_count\n",
        "from ordered_data\n",
        "where seconds_difference is not null\n",
        "  and amount=next_amount\n",
        "  and seconds_difference <=600\n",
        "\n",
        "\"\"\""
      ]
    }
  ]
}