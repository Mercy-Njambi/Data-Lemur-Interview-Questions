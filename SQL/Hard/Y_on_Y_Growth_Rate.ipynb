{
  "nbformat": 4,
  "nbformat_minor": 0,
  "metadata": {
    "colab": {
      "provenance": [],
      "authorship_tag": "ABX9TyODo3SrgfEwCPkufU5aUFSd",
      "include_colab_link": true
    },
    "kernelspec": {
      "name": "python3",
      "display_name": "Python 3"
    },
    "language_info": {
      "name": "python"
    }
  },
  "cells": [
    {
      "cell_type": "markdown",
      "metadata": {
        "id": "view-in-github",
        "colab_type": "text"
      },
      "source": [
        "<a href=\"https://colab.research.google.com/github/Mercy-Njambi/Data-Lemur-Interview-Questions/blob/main/SQL/Hard/Y_on_Y_Growth_Rate.ipynb\" target=\"_parent\"><img src=\"https://colab.research.google.com/assets/colab-badge.svg\" alt=\"Open In Colab\"/></a>"
      ]
    },
    {
      "cell_type": "markdown",
      "source": [
        "Assume you're given a table containing information about Wayfair user transactions for different products. Write a query to calculate the year-on-year growth rate for the total spend of each product, grouping the results by product ID.\n",
        "\n",
        "The output should include the year in ascending order, product ID, current year's spend, previous year's spend and year-on-year growth percentage, rounded to 2 decimal places.\n",
        "\n",
        "`user_transactions` Table:\n",
        "\n",
        "|Column Name|\tType|\n",
        "|:---|:---|\n",
        "|transaction_id|\tinteger|\n",
        "|product_id\t|integer|\n",
        "|spend\t|decimal|\n",
        "|transaction_date\t|datetime|\n",
        "\n",
        "Example Output:\n",
        "\n",
        "|year\t|product_id|\tcurr_year_spend\t|prev_year_spend|yoy_rate|\n",
        "|:---|:---|:---|:---|:---|\n",
        "|2019\t|123424|1500.60|\tNULL|\tNULL|\n",
        "|2020\t|123424\t|1000.20\t|1500.60\t|-33.35|\n",
        "|2021\t|123424|\t1246.44\t|1000.20\t|24.62|\n",
        "|2022\t|123424\t|2145.32\t|1246.44|\t72.12|\n"
      ],
      "metadata": {
        "id": "HronePVEts1p"
      }
    },
    {
      "cell_type": "code",
      "execution_count": null,
      "metadata": {
        "id": "es7cCsY6tiZ2"
      },
      "outputs": [],
      "source": [
        "query = \"\"\"\n",
        "with current_summary as (\n",
        "select\n",
        "  product_id,\n",
        "  extract(year from transaction_date) as year,\n",
        "  sum(spend) as current_spend,\n",
        "  lag(sum(spend)) over(partition by product_id order by extract(year from transaction_date)) as previous_spend\n",
        "from user_transactions\n",
        "group by year, product_id\n",
        "order by product_id, year)\n",
        "\n",
        "select\n",
        "  year,\n",
        "  product_id,\n",
        "  current_spend as curr_year_spend,\n",
        "  previous_spend as prev_year_spend,\n",
        "  round(((current_spend-previous_spend)*100.0)/previous_spend, 2) as yoy_rate\n",
        "from current_summary\n",
        "\"\"\""
      ]
    }
  ]
}