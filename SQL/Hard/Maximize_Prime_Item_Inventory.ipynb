{
  "nbformat": 4,
  "nbformat_minor": 0,
  "metadata": {
    "colab": {
      "provenance": [],
      "authorship_tag": "ABX9TyNfBwL2iVfLAprjMQ3HRK1c",
      "include_colab_link": true
    },
    "kernelspec": {
      "name": "python3",
      "display_name": "Python 3"
    },
    "language_info": {
      "name": "python"
    }
  },
  "cells": [
    {
      "cell_type": "markdown",
      "metadata": {
        "id": "view-in-github",
        "colab_type": "text"
      },
      "source": [
        "<a href=\"https://colab.research.google.com/github/Mercy-Njambi/Data-Lemur-Interview-Questions/blob/main/SQL/Hard/Maximize_Prime_Item_Inventory.ipynb\" target=\"_parent\"><img src=\"https://colab.research.google.com/assets/colab-badge.svg\" alt=\"Open In Colab\"/></a>"
      ]
    },
    {
      "cell_type": "markdown",
      "source": [
        "Amazon wants to maximize the storage capacity of its 500,000 square-foot warehouse by prioritizing a specific batch of prime items. The specific prime product batch detailed in the `inventory` table must be maintained.\n",
        "\n",
        "So, if the prime product batch specified in the `item_category` column included 1 laptop and 1 side table, that would be the base batch. We could not add another laptop without also adding a side table; they come all together as a batch set.\n",
        "\n",
        "After prioritizing the maximum number of prime batches, any remaining square footage will be utilized to stock non-prime batches, which also come in batch sets and cannot be separated into individual items.\n",
        "\n",
        "Write a query to find the maximum number of prime and non-prime batches that can be stored in the 500,000 square feet warehouse based on the following criteria:\n",
        "\n",
        "- Prioritize stocking prime batches\n",
        "- After accommodating prime items, allocate any remaining space to non-prime batches\n",
        "Output the item_type with prime_eligible first followed by not_prime, along with the maximum number of batches that can be stocked.\n",
        "\n",
        "Assumptions:\n",
        "\n",
        "- Again, products must be stocked in batches, so we want to find the largest available quantity of prime batches, and then the largest available quantity of non-prime batches\n",
        "- Non-prime items must always be available in stock to meet customer demand, so the non-prime item count should never be zero.\n",
        "- Item count should be whole numbers (integers).\n",
        "\n",
        "`inventory` table:\n",
        "\n",
        "|Column Name\t|Type|\n",
        "|:---|:---|\n",
        "|item_id|\tinteger|\n",
        "|item_type\t|string|\n",
        "|item_category|string|\n",
        "|square_footage\t|decimal|\n",
        "\n",
        "Example Output:\n",
        "\n",
        "|item_type\t|item_count|\n",
        "|:---|:---|\n",
        "|prime_eligible|\t9285|\n",
        "|not_prime\t|6|\n"
      ],
      "metadata": {
        "id": "GWiGegr7W_GY"
      }
    },
    {
      "cell_type": "code",
      "execution_count": null,
      "metadata": {
        "id": "pTSBuZxeW1Zw"
      },
      "outputs": [],
      "source": [
        "query = \"\"\"\n",
        "with summary as (\n",
        "select\n",
        "  item_type,\n",
        "  count(*) item_count,\n",
        "  sum(square_footage) as total_sqr_ft\n",
        "from inventory\n",
        "group by item_type\n",
        "),\n",
        "batches as (\n",
        "select\n",
        "  t1.item_type,\n",
        "  t1.item_count,\n",
        "  case\n",
        "    when t1. item_type = 'prime_eligible' then floor(500000/t1.total_sqr_ft)\n",
        "    when t1.item_type='not_prime' then floor((500000%t2.total_sqr_ft)/t1.total_sqr_ft)\n",
        "  end as batches\n",
        "from summary t1\n",
        "cross join summary t2\n",
        "where t1. item_type != t2.item_type\n",
        ")\n",
        "\n",
        "select\n",
        "  item_type,\n",
        "  item_count*batches as item_count\n",
        "from batches\n",
        "order by\n",
        "  case\n",
        "    when item_type = 'prime_eligible' then 1\n",
        "    else 0\n",
        "  end desc\n",
        "\"\"\""
      ]
    }
  ]
}