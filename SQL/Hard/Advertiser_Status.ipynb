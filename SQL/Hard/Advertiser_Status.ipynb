{
  "nbformat": 4,
  "nbformat_minor": 0,
  "metadata": {
    "colab": {
      "provenance": [],
      "authorship_tag": "ABX9TyNDw0G858CnpKK9ub5M1fRd",
      "include_colab_link": true
    },
    "kernelspec": {
      "name": "python3",
      "display_name": "Python 3"
    },
    "language_info": {
      "name": "python"
    }
  },
  "cells": [
    {
      "cell_type": "markdown",
      "metadata": {
        "id": "view-in-github",
        "colab_type": "text"
      },
      "source": [
        "<a href=\"https://colab.research.google.com/github/Mercy-Njambi/Data-Lemur-Interview-Questions/blob/main/SQL/Hard/Advertiser_Status.ipynb\" target=\"_parent\"><img src=\"https://colab.research.google.com/assets/colab-badge.svg\" alt=\"Open In Colab\"/></a>"
      ]
    },
    {
      "cell_type": "markdown",
      "source": [
        "You're provided with two tables: the advertiser table contains information about advertisers and their respective payment status, and the daily_pay table contains the current payment information for advertisers, and it only includes advertisers who have made payments.\n",
        "\n",
        "Write a query to update the payment status of Facebook advertisers based on the information in the daily_pay table. The output should include the user ID and their current payment status, sorted by the user id.\n",
        "\n",
        "The payment status of advertisers can be classified into the following categories:\n",
        "\n",
        "- New: Advertisers who are newly registered and have made their first payment.\n",
        "- Existing: Advertisers who have made payments in the past and have recently made a current payment.\n",
        "- Churn: Advertisers who have made payments in the past but have not made any recent payment.\n",
        "- Resurrect: Advertisers who have not made a recent payment but may have made a previous payment and have made a payment again recently.\n",
        "\n",
        "Before proceeding with the question, it is important to understand the possible transitions in the advertiser's status based on the payment status. The following table provides a summary of these transitions:\n",
        "\n",
        "|#|Current Status|\tUpdated Status|\tPayment on Day T|\n",
        "|:---|:---|:---|:---|\n",
        "|1|\tNEW\t|EXISTING\t|Paid|\n",
        "|2|\tNEW\t|CHURN\t|Not paid|\n",
        "|3\t|EXISTING|\tEXISTING\t|Paid|\n",
        "|4\t|EXISTING|\tCHURN|\tNot paid|\n",
        "|5\t|CHURN|\tRESURRECT\t|Paid|\n",
        "|6\t|CHURN\t|CHURN\t|Not paid|\n",
        "|7\t|RESURRECT\t|EXISTING|\tPaid|\n",
        "|8|\tRESURRECT\t|CHURN|\tNot paid|\n",
        "\n",
        "- \"Current Status\" column: Represents the advertiser's current status.\n",
        "- \"Payment Status\" column: Represents the updated payment status based on the conditions\n",
        "- \"Payment on Day T\" column: Indicates whether the advertiser made a payment on a specific day (T) or not.\n",
        "\n",
        "The transitions between payment statuses in the provided table can be summarized as follows:\n",
        "\n",
        "- Rows 2, 4, 6, and 8: If an advertiser does not make a payment on day T, regardless of their previous status, their payment status transitions to \"CHURN\" as the updated status.\n",
        "- Rows 1, 3, 5, and 7: If an advertiser makes a payment on day T, the status is updated to either \"EXISTING\" or \"RESURRECT\" based on their previous status. If the previous status was \"CHURN,\" the updated status is \"RESURRECT.\" For any other previous status, the updated status is \"EXISTING.\"\n",
        "\n",
        "`advertiser` Table:\n",
        "\n",
        "|Column Name|\tType|\n",
        "|:---|:---|\n",
        "|user_id\t|string|\n",
        "|status\t|string|\n",
        "\n",
        "`daily_pay` Table:\n",
        "\n",
        "|Column Name|Type|\n",
        "|:---|:---|\n",
        "|user_id|\tstring|\n",
        "|paid\t|decimal|\n",
        "\n",
        "Example Output:\n",
        "\n",
        "|user_id\t|new_status|\n",
        "|:---|:---|\n",
        "|bing\t|CHURN|\n",
        "|yahoo\t|EXISTING|\n",
        "|alibaba\t|EXISTING|\n"
      ],
      "metadata": {
        "id": "udkqSv-4UR6o"
      }
    },
    {
      "cell_type": "code",
      "execution_count": null,
      "metadata": {
        "id": "8Nw73-1QUKea"
      },
      "outputs": [],
      "source": [
        "query = \"\"\"\n",
        "select\n",
        "  coalesce(advertiser.user_id, daily_pay.user_id) as user_id,\n",
        "  case\n",
        "    when paid is null then 'CHURN'\n",
        "    when status in ('NEW','EXISTING', 'RESURRECT') and paid is not null then 'EXISTING'\n",
        "    when status = 'CHURN' and paid is not null then 'RESURRECT'\n",
        "    when status is null and paid is not null then 'NEW'\n",
        "  end as new_status\n",
        "from advertiser\n",
        "full outer join daily_pay\n",
        "  on advertiser.user_id = daily_pay.user_id\n",
        "order by user_id\n",
        "\"\"\""
      ]
    }
  ]
}