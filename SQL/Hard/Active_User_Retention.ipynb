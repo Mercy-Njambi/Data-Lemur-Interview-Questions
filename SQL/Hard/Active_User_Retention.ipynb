{
  "nbformat": 4,
  "nbformat_minor": 0,
  "metadata": {
    "colab": {
      "provenance": [],
      "authorship_tag": "ABX9TyO1zdpZTM0Q6Z1KBs2P0lDY",
      "include_colab_link": true
    },
    "kernelspec": {
      "name": "python3",
      "display_name": "Python 3"
    },
    "language_info": {
      "name": "python"
    }
  },
  "cells": [
    {
      "cell_type": "markdown",
      "metadata": {
        "id": "view-in-github",
        "colab_type": "text"
      },
      "source": [
        "<a href=\"https://colab.research.google.com/github/Mercy-Njambi/Data-Lemur-Interview-Questions/blob/main/SQL/Hard/Active_User_Retention.ipynb\" target=\"_parent\"><img src=\"https://colab.research.google.com/assets/colab-badge.svg\" alt=\"Open In Colab\"/></a>"
      ]
    },
    {
      "cell_type": "markdown",
      "source": [
        "Assume you're given a table containing information on Facebook user actions. Write a query to obtain number of monthly active users (MAUs) in July 2022, including the month in numerical format \"1, 2, 3\".\n",
        "\n",
        "Hint:\n",
        "\n",
        "- An active user is defined as a user who has performed actions such as 'sign-in', 'like', or 'comment' in both the current month and the previous month.\n",
        "\n",
        "`user_actions` Table:\n",
        "\n",
        "|Column Name|\tType|\n",
        "|:---|:---|\n",
        "|user_id\t|integer|\n",
        "|event_id|\tinteger|\n",
        "|event_type|\tstring (\"sign-in, \"like\", \"comment\")|\n",
        "|event_date|\tdatetime|\n",
        "\n",
        "Example Output for June 2022:\n",
        "\n",
        "|month\t|monthly_active_users|\n",
        "|:---|:---|\n",
        "|6|\t1|\n"
      ],
      "metadata": {
        "id": "zWUdy2X6heaP"
      }
    },
    {
      "cell_type": "code",
      "execution_count": null,
      "metadata": {
        "id": "bbVFOhEPhVkH"
      },
      "outputs": [],
      "source": [
        "query = \"\"\"\n",
        "select\n",
        "  extract(month from event_date) as month,\n",
        "  count(distinct user_id)\n",
        "from user_actions\n",
        "where extract(year from event_date) = 2022\n",
        "and extract(month from event_date) = 7\n",
        "and user_id in (\n",
        "      select user_id\n",
        "      from user_actions\n",
        "      where extract(year from event_date) = 2022 and extract(month from event_date) = 6)\n",
        "group by extract(month from event_date)\n",
        "\"\"\""
      ]
    }
  ]
}